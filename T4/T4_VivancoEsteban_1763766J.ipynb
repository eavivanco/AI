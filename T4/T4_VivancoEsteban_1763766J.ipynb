{
  "nbformat": 4,
  "nbformat_minor": 0,
  "metadata": {
    "colab": {
      "name": "T4_VivancoEsteban_1763766J.ipynb",
      "provenance": [],
      "collapsed_sections": [],
      "toc_visible": true,
      "machine_shape": "hm"
    },
    "kernelspec": {
      "name": "python3",
      "display_name": "Python 3"
    },
    "accelerator": "GPU"
  },
  "cells": [
    {
      "cell_type": "markdown",
      "metadata": {
        "id": "sc1a1_9FMl5B"
      },
      "source": [
        "<H1> Nombre: Esteban </H1>\n",
        "<H1> Apellido: Vivanco</H1>\n",
        "<H1> Número de alumno: 1763766J</H1>"
      ]
    },
    {
      "cell_type": "code",
      "metadata": {
        "colab": {
          "base_uri": "https://localhost:8080/"
        },
        "id": "u-639097gInU",
        "outputId": "118614d5-ede9-470c-ba8c-522570217a35"
      },
      "source": [
        "!gdown --id 15Z0tkJW6NTdvi9q0G3vQDgRyniXzqEzG"
      ],
      "execution_count": 86,
      "outputs": [
        {
          "output_type": "stream",
          "text": [
            "Downloading...\n",
            "From: https://drive.google.com/uc?id=15Z0tkJW6NTdvi9q0G3vQDgRyniXzqEzG\n",
            "To: /content/diamonds.zip\n",
            "\r  0% 0.00/712k [00:00<?, ?B/s]\r100% 712k/712k [00:00<00:00, 96.6MB/s]\n"
          ],
          "name": "stdout"
        }
      ]
    },
    {
      "cell_type": "code",
      "metadata": {
        "id": "dEBGI8GwgWa7",
        "colab": {
          "base_uri": "https://localhost:8080/"
        },
        "outputId": "042a78e6-bfe8-45ae-9693-a68f106519d9"
      },
      "source": [
        "!pip install tensorflow-addons\n",
        "import pandas as pd\n",
        "import numpy as np\n",
        "import tensorflow as tf \n",
        "import tensorflow_addons as tfa\n",
        "import keras\n",
        "import sklearn\n",
        "import matplotlib as mpl\n",
        "import matplotlib.pyplot as plt\n",
        "from sklearn.preprocessing import StandardScaler\n",
        "from keras.layers import Dense\n",
        "from keras.models import Sequential\n",
        "from keras.utils.np_utils import to_categorical\n",
        "from sklearn.model_selection import train_test_split"
      ],
      "execution_count": 87,
      "outputs": [
        {
          "output_type": "stream",
          "text": [
            "Requirement already satisfied: tensorflow-addons in /usr/local/lib/python3.7/dist-packages (0.13.0)\n",
            "Requirement already satisfied: typeguard>=2.7 in /usr/local/lib/python3.7/dist-packages (from tensorflow-addons) (2.7.1)\n"
          ],
          "name": "stdout"
        }
      ]
    },
    {
      "cell_type": "markdown",
      "metadata": {
        "id": "JkXBIQmgTTgn"
      },
      "source": [
        "#Functions"
      ]
    },
    {
      "cell_type": "code",
      "metadata": {
        "id": "doaWpeNqaWkq"
      },
      "source": [
        "cut_dic = {'Fair': 1, 'Good': 2, 'Very Good': 3, 'Premium': 4, 'Ideal': 5}\n",
        "color_dic = {'D': 1, 'E': 2, 'F': 3, 'G': 4, 'H': 5, 'I': 6, 'J': 7}\n",
        "clarity_dic = {'I1': 1, 'SI2': 2, 'SI1': 3, 'VS2': 4, 'VS1': 5, 'VVS2': 6, \n",
        "               'VVS1': 7, 'IF': 8}"
      ],
      "execution_count": 88,
      "outputs": []
    },
    {
      "cell_type": "code",
      "metadata": {
        "id": "wkDC9om8VGSj"
      },
      "source": [
        "def to_numeric(df, cut_dic, color_dic, clarity_dic):\n",
        "  for i in range(0, len(df['cut'])):\n",
        "    df['cut'][i] = cut_dic[df['cut'][i]]\n",
        "  for j in range(0, len(df['color'])):\n",
        "    df['color'][j] = color_dic[df['color'][j]]\n",
        "  for w in range(0, len(df['clarity'])):\n",
        "    df['clarity'][w] = clarity_dic[df['clarity'][w]] \n",
        "  return df"
      ],
      "execution_count": 89,
      "outputs": []
    },
    {
      "cell_type": "code",
      "metadata": {
        "id": "3htbT1mqTXaU"
      },
      "source": [
        "def to_XY(df, cut_dic, color_dic, clarity_dic):\n",
        "  X_train = []\n",
        "  X_val = []\n",
        "  X_test = []\n",
        "  Y_train = []\n",
        "  Y_val = []\n",
        "  Y_test = []\n",
        "  scaler = StandardScaler()\n",
        "  numeric_df = to_numeric(df, cut_dic, color_dic, clarity_dic)\n",
        "  df_test = numeric_df.loc[df['Usage'] == 'Test']\n",
        "  df_tov = numeric_df.loc[df['Usage'] == 'ToV']\n",
        "  X_test = df_test[['carat','cut','color','clarity','depth',\n",
        "                    'table','x','y','z']]\n",
        "  preX_tov = df_tov[['carat','cut','color','clarity','depth',\n",
        "                    'table','x','y','z']]\n",
        "  Y_test = df_test[['price']]\n",
        "  preY_tov = df_tov[['price']]\n",
        "                    \n",
        "  X_train, X_val, Y_train, Y_val = train_test_split( preX_tov, preY_tov, \n",
        "                                                    test_size=0.2, \n",
        "                                                    random_state=77)\n",
        "  X_train = scaler.fit_transform(X_train)\n",
        "  X_val = scaler.fit_transform(X_val)\n",
        "  X_test = scaler.fit_transform(X_test)\n",
        "\n",
        "  return X_train, X_val, X_test, Y_train, Y_val, Y_test"
      ],
      "execution_count": 90,
      "outputs": []
    },
    {
      "cell_type": "markdown",
      "metadata": {
        "id": "r9eZOFzNhkn_"
      },
      "source": [
        "#Pregunta 1"
      ]
    },
    {
      "cell_type": "code",
      "metadata": {
        "id": "DvE9JIYShn28"
      },
      "source": [
        "df = pd.read_csv('diamonds.zip')"
      ],
      "execution_count": 91,
      "outputs": []
    },
    {
      "cell_type": "code",
      "metadata": {
        "colab": {
          "base_uri": "https://localhost:8080/",
          "height": 204
        },
        "id": "-pvAwTxuN-Do",
        "outputId": "addc240d-c73e-440f-aee8-302c86ceb8be"
      },
      "source": [
        "df.head()"
      ],
      "execution_count": 92,
      "outputs": [
        {
          "output_type": "execute_result",
          "data": {
            "text/html": [
              "<div>\n",
              "<style scoped>\n",
              "    .dataframe tbody tr th:only-of-type {\n",
              "        vertical-align: middle;\n",
              "    }\n",
              "\n",
              "    .dataframe tbody tr th {\n",
              "        vertical-align: top;\n",
              "    }\n",
              "\n",
              "    .dataframe thead th {\n",
              "        text-align: right;\n",
              "    }\n",
              "</style>\n",
              "<table border=\"1\" class=\"dataframe\">\n",
              "  <thead>\n",
              "    <tr style=\"text-align: right;\">\n",
              "      <th></th>\n",
              "      <th>Unnamed: 0</th>\n",
              "      <th>carat</th>\n",
              "      <th>cut</th>\n",
              "      <th>color</th>\n",
              "      <th>clarity</th>\n",
              "      <th>depth</th>\n",
              "      <th>table</th>\n",
              "      <th>price</th>\n",
              "      <th>x</th>\n",
              "      <th>y</th>\n",
              "      <th>z</th>\n",
              "      <th>Usage</th>\n",
              "    </tr>\n",
              "  </thead>\n",
              "  <tbody>\n",
              "    <tr>\n",
              "      <th>0</th>\n",
              "      <td>1</td>\n",
              "      <td>0.23</td>\n",
              "      <td>Ideal</td>\n",
              "      <td>E</td>\n",
              "      <td>SI2</td>\n",
              "      <td>61.5</td>\n",
              "      <td>55.0</td>\n",
              "      <td>326</td>\n",
              "      <td>3.95</td>\n",
              "      <td>3.98</td>\n",
              "      <td>2.43</td>\n",
              "      <td>ToV</td>\n",
              "    </tr>\n",
              "    <tr>\n",
              "      <th>1</th>\n",
              "      <td>2</td>\n",
              "      <td>0.21</td>\n",
              "      <td>Premium</td>\n",
              "      <td>E</td>\n",
              "      <td>SI1</td>\n",
              "      <td>59.8</td>\n",
              "      <td>61.0</td>\n",
              "      <td>326</td>\n",
              "      <td>3.89</td>\n",
              "      <td>3.84</td>\n",
              "      <td>2.31</td>\n",
              "      <td>Test</td>\n",
              "    </tr>\n",
              "    <tr>\n",
              "      <th>2</th>\n",
              "      <td>3</td>\n",
              "      <td>0.23</td>\n",
              "      <td>Good</td>\n",
              "      <td>E</td>\n",
              "      <td>VS1</td>\n",
              "      <td>56.9</td>\n",
              "      <td>65.0</td>\n",
              "      <td>327</td>\n",
              "      <td>4.05</td>\n",
              "      <td>4.07</td>\n",
              "      <td>2.31</td>\n",
              "      <td>ToV</td>\n",
              "    </tr>\n",
              "    <tr>\n",
              "      <th>3</th>\n",
              "      <td>4</td>\n",
              "      <td>0.29</td>\n",
              "      <td>Premium</td>\n",
              "      <td>I</td>\n",
              "      <td>VS2</td>\n",
              "      <td>62.4</td>\n",
              "      <td>58.0</td>\n",
              "      <td>334</td>\n",
              "      <td>4.20</td>\n",
              "      <td>4.23</td>\n",
              "      <td>2.63</td>\n",
              "      <td>ToV</td>\n",
              "    </tr>\n",
              "    <tr>\n",
              "      <th>4</th>\n",
              "      <td>5</td>\n",
              "      <td>0.31</td>\n",
              "      <td>Good</td>\n",
              "      <td>J</td>\n",
              "      <td>SI2</td>\n",
              "      <td>63.3</td>\n",
              "      <td>58.0</td>\n",
              "      <td>335</td>\n",
              "      <td>4.34</td>\n",
              "      <td>4.35</td>\n",
              "      <td>2.75</td>\n",
              "      <td>ToV</td>\n",
              "    </tr>\n",
              "  </tbody>\n",
              "</table>\n",
              "</div>"
            ],
            "text/plain": [
              "   Unnamed: 0  carat      cut color clarity  ...  price     x     y     z  Usage\n",
              "0           1   0.23    Ideal     E     SI2  ...    326  3.95  3.98  2.43    ToV\n",
              "1           2   0.21  Premium     E     SI1  ...    326  3.89  3.84  2.31   Test\n",
              "2           3   0.23     Good     E     VS1  ...    327  4.05  4.07  2.31    ToV\n",
              "3           4   0.29  Premium     I     VS2  ...    334  4.20  4.23  2.63    ToV\n",
              "4           5   0.31     Good     J     SI2  ...    335  4.34  4.35  2.75    ToV\n",
              "\n",
              "[5 rows x 12 columns]"
            ]
          },
          "metadata": {
            "tags": []
          },
          "execution_count": 92
        }
      ]
    },
    {
      "cell_type": "code",
      "metadata": {
        "colab": {
          "base_uri": "https://localhost:8080/"
        },
        "id": "B0qfyUBqvYlN",
        "outputId": "15ee8eb0-8ceb-485c-84c1-00ac221456e0"
      },
      "source": [
        "df.isnull().sum()"
      ],
      "execution_count": 93,
      "outputs": [
        {
          "output_type": "execute_result",
          "data": {
            "text/plain": [
              "Unnamed: 0    0\n",
              "carat         0\n",
              "cut           0\n",
              "color         0\n",
              "clarity       0\n",
              "depth         0\n",
              "table         0\n",
              "price         0\n",
              "x             0\n",
              "y             0\n",
              "z             0\n",
              "Usage         0\n",
              "dtype: int64"
            ]
          },
          "metadata": {
            "tags": []
          },
          "execution_count": 93
        }
      ]
    },
    {
      "cell_type": "markdown",
      "metadata": {
        "id": "Tj5KcNo8OALs"
      },
      "source": [
        "Se realizó una primera lectura de datos, en la cuál no se detectaron datos nulos. \n",
        "\n",
        "En esta revisión también se detectó que la mayoría de las series tenían valores numéricos, pero también se detectó la existencia de series cuyos valores no estaban representados de manera numérica. Esta situación en particular se detectó para las series \"cut\", \"color\" y \"clarity\". Para cada uno de los casos antes mencionados se creará un diccionario que asigne el valor numérico \"1\" a la peor opción de la serie, y el valor máximo (longitud del diccionario) a la mejor opción. De esta manera todos los datos del set quedarán como valores numéricos. Los datos serán procesados a través de la función *to_numeric*.\n",
        "\n",
        "Con respecto a cada serie:\n",
        "- carat: toma valores decimales, al menos en el head, acotados superiormente por 0.5\n",
        "- cut: tiene valores no numéricos pero serán transformados a valores numéricos entre 1 y la cantidad de clases.\n",
        "- color: tiene valores no numéricos pero serán transformados a valores numéricos entre 1 y la cantidad de clases.\n",
        "- clarity: tiene valores no numéricos pero serán transformados a valores numéricos entre 1 y la cantidad de clases.\n",
        "- depth: podemos notar que toma valores numéricos que superan el 50, bastante distante con respecto a carat.\n",
        "- table: toma valores numércios que superan el 50, valores similares a depth.\n",
        "- price: toma valores numéricos que superan el 300. En general, tiene los valores más altos de las series.\n",
        "- x, y ,z: estas tres series toman valores bastantes similares, tomando de referencia el head, estos valores oscilan entre 2 y 5.\n",
        "- usage: toma valores no numéricos que indican el uso del ejemplo."
      ]
    },
    {
      "cell_type": "code",
      "metadata": {
        "id": "gmtRDaOnNIf8"
      },
      "source": [
        "raw_X = df[['carat','cut','color','clarity','depth','table','x','y','z']]\n",
        "raw_Y = df[['price']]"
      ],
      "execution_count": 94,
      "outputs": []
    },
    {
      "cell_type": "code",
      "metadata": {
        "colab": {
          "base_uri": "https://localhost:8080/"
        },
        "id": "17ubBERXNY7Y",
        "outputId": "f5618b42-aa67-4702-89cf-58cf98cf22c9"
      },
      "source": [
        "print(f'La shape de raw_X es : {raw_X.shape}')\n",
        "print(f'La shape de raw_Y es : {raw_Y.shape}')"
      ],
      "execution_count": 96,
      "outputs": [
        {
          "output_type": "stream",
          "text": [
            "La shape de raw_X es : (53940, 9)\n",
            "La shape de raw_Y es : (53940, 1)\n"
          ],
          "name": "stdout"
        }
      ]
    },
    {
      "cell_type": "markdown",
      "metadata": {
        "id": "r8B-miNwKxeC"
      },
      "source": [
        "Consultando las shapes de las matrices \"X\" e \"Y\" del set completo podemos mencionar que cada ejemplo de la matriz \"X\" se compone de 9 características y que cada ejemplo de la matriz \"Y\" se compone de una única característica, la serie \"price\". Además, existe un total de 53,940 ejemplos.\n"
      ]
    },
    {
      "cell_type": "markdown",
      "metadata": {
        "id": "WhjbKZ7hhnXr"
      },
      "source": [
        "#Pregunta 2"
      ]
    },
    {
      "cell_type": "code",
      "metadata": {
        "id": "YUhwQ8tghryQ",
        "colab": {
          "base_uri": "https://localhost:8080/"
        },
        "outputId": "56deb582-bc4d-4d4d-d2da-01859ca0ccc1"
      },
      "source": [
        "X_train, X_val, X_test, Y_train, Y_val, Y_test = to_XY(df, cut_dic, color_dic, \n",
        "                                                       clarity_dic)"
      ],
      "execution_count": 97,
      "outputs": [
        {
          "output_type": "stream",
          "text": [
            "/usr/local/lib/python3.7/dist-packages/ipykernel_launcher.py:3: SettingWithCopyWarning: \n",
            "A value is trying to be set on a copy of a slice from a DataFrame\n",
            "\n",
            "See the caveats in the documentation: https://pandas.pydata.org/pandas-docs/stable/user_guide/indexing.html#returning-a-view-versus-a-copy\n",
            "  This is separate from the ipykernel package so we can avoid doing imports until\n",
            "/usr/local/lib/python3.7/dist-packages/ipykernel_launcher.py:5: SettingWithCopyWarning: \n",
            "A value is trying to be set on a copy of a slice from a DataFrame\n",
            "\n",
            "See the caveats in the documentation: https://pandas.pydata.org/pandas-docs/stable/user_guide/indexing.html#returning-a-view-versus-a-copy\n",
            "  \"\"\"\n",
            "/usr/local/lib/python3.7/dist-packages/ipykernel_launcher.py:7: SettingWithCopyWarning: \n",
            "A value is trying to be set on a copy of a slice from a DataFrame\n",
            "\n",
            "See the caveats in the documentation: https://pandas.pydata.org/pandas-docs/stable/user_guide/indexing.html#returning-a-view-versus-a-copy\n",
            "  import sys\n"
          ],
          "name": "stderr"
        }
      ]
    },
    {
      "cell_type": "markdown",
      "metadata": {
        "id": "kJRivTAKNuzn"
      },
      "source": [
        "En la revisión anterior se detectó la existencia de series cuyos valores no estaban representados de manera numérica. Esta situación en particular se detectó para las series \"cut\", \"color\" y \"clarity\". Para cada uno de los casos antes mencionados se creó un diccionario que asignaba el valor 1 a la peor opción de la serie, y el valor máximo a la mejor opción. De esta manera todos los datos del set quedaron como valores numéricos a partir de la función *to_numeric* implementada dentro de la función *to_XY*\n",
        "\n",
        "Debido a la diferencia de valores encontrada, se aplicará un pre procesamiento de datos a través del método *StandardScaler* de la librería *sklearn*, con el fin de tener datos más homogéneos como *input* para nuestro modelo.\n",
        "\n",
        "Aplicado lo anterior, se procedió a dividir el set completo de datos en 3 subconjuntos. Los datos con \"Usage\" = \"Test\" se asignaron al set de test, mientras que de los datos con \"Usage\" = \"ToV\" se asignó un 80% al set de entrenamiento y un 20% al set de validación a través del método *train_test_split* de la librería *sklearn*. Esta última división se aplicó a partir de la materia vista en clases, la que indica que destinar gran parte de los datos al set de entrenamiento puede generar considerables ventajas al momento de testear los datos luego de entrenado el modelo. \n",
        "\n",
        "Los 3 subconjuntos fueron divididos en un array \"X\" y un array \"Y\". La primera contiene todas las series del *dataframe* original, menos la serie \"price\", mientras que el array \"Y\" solo contiene la serie \"price\", extraída del array \"X\".\n",
        "\n",
        "La división del *dataframe* original se hizo a través de la función *to_XY* que además utiliza la función *to_numeric* antes mencionada. Estas funciones reciben como *input* el *dataframe* original y los diccionarios antes mencionados\n",
        "\n"
      ]
    },
    {
      "cell_type": "code",
      "metadata": {
        "colab": {
          "base_uri": "https://localhost:8080/"
        },
        "id": "H2UINVCdN093",
        "outputId": "2b8b8a86-c0c3-4bce-a746-6264bbf3a503"
      },
      "source": [
        "print(f'La shape de X_train es : {X_train.shape}')\n",
        "print(f'La shape de Y_train es : {Y_train.shape}')\n",
        "print(f'La shape de X_val es : {X_val.shape}')\n",
        "print(f'La shape de Y_val es : {Y_val.shape}')\n",
        "print(f'La shape de X_test es : {X_test.shape}')\n",
        "print(f'La shape de Y_test es : {Y_test.shape}')"
      ],
      "execution_count": 98,
      "outputs": [
        {
          "output_type": "stream",
          "text": [
            "La shape de X_train es : (38872, 9)\n",
            "La shape de Y_train es : (38872, 1)\n",
            "La shape de X_val es : (9718, 9)\n",
            "La shape de Y_val es : (9718, 1)\n",
            "La shape de X_test es : (5350, 9)\n",
            "La shape de Y_test es : (5350, 1)\n"
          ],
          "name": "stdout"
        }
      ]
    },
    {
      "cell_type": "markdown",
      "metadata": {
        "id": "aTq9iC73N1nL"
      },
      "source": [
        "Consultando las shapes de las matrices antes mencionadas podemos mencionar que si bien el set \"ToV\" se dividió en un 80% train set y 20% validation set, en términos generales, la división del total de instancias del set es: 72% train set, 18% validation set y 10% test set, sobre un total de 53,940 ejemplos. Se nota que la suma de ejemplos entre los 3 sets coincide con la cantidad de ejemplos observados en *raw_X* lo que indica consistencia en la división del conjunto original en subconjuntos.\n",
        "\n",
        "También podemos mencionar que en esta oportunidad la matriz \"Y\" de cada set tiene solo una dimensión para cada ejemplo y este \"depende\" de las 9 variables alojadas en cada row de su respectiva matriz \"X\"."
      ]
    },
    {
      "cell_type": "code",
      "metadata": {
        "colab": {
          "base_uri": "https://localhost:8080/"
        },
        "id": "nrXcSSy1ukIB",
        "outputId": "8ccebe18-a5e4-4a84-b1cf-8d217bdd3dd9"
      },
      "source": [
        "X_train[:10]"
      ],
      "execution_count": 99,
      "outputs": [
        {
          "output_type": "execute_result",
          "data": {
            "text/plain": [
              "array([[-1.01070713, -0.80968195, -1.52383503, -0.6374078 ,  0.80792434,\n",
              "        -0.65524641, -1.20648386, -1.15950039, -1.09897551],\n",
              "       [ 0.06602802, -1.7050494 ,  0.23717523, -0.02934566,  1.36570136,\n",
              "         1.53061975,  0.09471545,  0.15822386,  0.29567517],\n",
              "       [ 0.48827709,  0.0856855 , -0.34982819, -1.24546993, -0.23790757,\n",
              "        -0.20915128,  0.77205208,  0.68704741,  0.69012183],\n",
              "       [-0.79958259, -1.7050494 , -0.34982819, -0.6374078 ,  1.29597924,\n",
              "        -0.20915128, -0.86781555, -0.89942324, -0.746791  ],\n",
              "       [-1.03181959,  0.0856855 , -0.93683161, -0.02934566, -0.51679608,\n",
              "         0.68303899, -1.19757154, -1.22018506, -1.23984932],\n",
              "       [ 0.88941372,  0.0856855 ,  0.23717523,  0.57871647,  0.31986945,\n",
              "         0.68303899,  1.01268483,  0.93845533,  1.01413159],\n",
              "       [-0.18732143,  0.0856855 , -0.34982819, -0.02934566, -2.6084599 ,\n",
              "         2.0213244 ,  0.10362778,  0.06286224, -0.22555791],\n",
              "       [-0.77847014,  0.98105296,  1.41118207, -0.6374078 , -0.58651821,\n",
              "        -0.20915128, -0.76086766, -0.72603847, -0.78905314],\n",
              "       [ 1.92392396, -0.80968195,  1.41118207, -0.02934566,  1.15653498,\n",
              "         0.68303899,  1.60089822,  1.48461736,  1.70441324],\n",
              "       [ 1.54389979,  0.98105296,  0.82417865, -0.6374078 ,  0.11070307,\n",
              "         0.23694386,  1.46721336,  1.45860964,  1.46492777]])"
            ]
          },
          "metadata": {
            "tags": []
          },
          "execution_count": 99
        }
      ]
    },
    {
      "cell_type": "markdown",
      "metadata": {
        "id": "3oJJmc_JyRX0"
      },
      "source": [
        "Al rescatar los primeros 10 ejemplos de nuestra X del set de entrenamiento, podemos notar que estos toman valores más homogéneos entre las distintas series. Cabe mencionar que el los valores de la serie \"price\" no fueron alterados."
      ]
    },
    {
      "cell_type": "markdown",
      "metadata": {
        "id": "RmjCXlKwhqjE"
      },
      "source": [
        "#Pregunta 3"
      ]
    },
    {
      "cell_type": "markdown",
      "metadata": {
        "id": "VpLlOOQD2IUf"
      },
      "source": [
        "Comencé con 10 epochs para entrenar el modelo, pero al notar que no existía mucho avance entre los distintos valores de las neuronas, decidí buscar información al respecto sobre algún número recomendado de epochs. Encontré información que sugiere 100 pero al correrlo se demoraba demasiado, por ello, terminé optando por 50 epochs.\n",
        "\n",
        "[Info en stackoverflow](https://stackoverflow.com/questions/35050753/how-big-should-batch-size-and-number-of-epochs-be-when-fitting-a-model-in-keras#:~:text=I%20got%20best%20results%20with,b%2Fw%2050%20to%20100.)"
      ]
    },
    {
      "cell_type": "code",
      "metadata": {
        "id": "0lFQkSdTy3Au"
      },
      "source": [
        "act_functions = ['relu', 'tanh', 'sigmoid']\n",
        "metrics_list = ['mae', 'mse']\n",
        "values1 = [9, 9, 12, 13, 15]\n",
        "values2 = [5, 8, 9, 12, 14]"
      ],
      "execution_count": 100,
      "outputs": []
    },
    {
      "cell_type": "code",
      "metadata": {
        "colab": {
          "base_uri": "https://localhost:8080/"
        },
        "id": "wqiogRnQ0Io3",
        "outputId": "2a70a2e6-07d5-463e-bef4-ea083b39db9e"
      },
      "source": [
        "lossList = []\n",
        "mseList = []\n",
        "maeList = []\n",
        "for act in act_functions:\n",
        "  print(f'Funcion de activacion: {act}')\n",
        "  for i in range(0, len(values1)):\n",
        "    model = Sequential()\n",
        "    input_layer = Dense(values1[i], input_shape=X_train.shape, activation=act)\n",
        "    model.add(input_layer)\n",
        "    hidden_layer = Dense(values2[i], activation=act)\n",
        "    model.add(hidden_layer)\n",
        "    output_layer = Dense(1)\n",
        "    model.add(output_layer)\n",
        "    model.compile(loss='mse', optimizer='adam', metrics=metrics_list)\n",
        "    history = model.fit(X_train, Y_train, epochs=50, batch_size=32,verbose=0)\n",
        "    loss, mae, mse = model.evaluate(X_val,Y_val,verbose=0)\n",
        "    print(f'[{values1[i]},{values2[i]}]: {loss} | {mae} | {mse}')\n",
        "    lossList.append(loss)\n",
        "    mseList.append(mse)\n",
        "    maeList.append(mae)\n",
        "\n",
        "    \n",
        "\n"
      ],
      "execution_count": 101,
      "outputs": [
        {
          "output_type": "stream",
          "text": [
            "Funcion de activacion: relu\n",
            "WARNING:tensorflow:Model was constructed with shape (None, 38872, 9) for input KerasTensor(type_spec=TensorSpec(shape=(None, 38872, 9), dtype=tf.float32, name='dense_12_input'), name='dense_12_input', description=\"created by layer 'dense_12_input'\"), but it was called on an input with incompatible shape (None, 9).\n",
            "WARNING:tensorflow:Model was constructed with shape (None, 38872, 9) for input KerasTensor(type_spec=TensorSpec(shape=(None, 38872, 9), dtype=tf.float32, name='dense_12_input'), name='dense_12_input', description=\"created by layer 'dense_12_input'\"), but it was called on an input with incompatible shape (None, 9).\n",
            "WARNING:tensorflow:Model was constructed with shape (None, 38872, 9) for input KerasTensor(type_spec=TensorSpec(shape=(None, 38872, 9), dtype=tf.float32, name='dense_12_input'), name='dense_12_input', description=\"created by layer 'dense_12_input'\"), but it was called on an input with incompatible shape (None, 9).\n",
            "[9,5]: 758044.8125 | 460.7629699707031 | 758044.8125\n",
            "WARNING:tensorflow:Model was constructed with shape (None, 38872, 9) for input KerasTensor(type_spec=TensorSpec(shape=(None, 38872, 9), dtype=tf.float32, name='dense_15_input'), name='dense_15_input', description=\"created by layer 'dense_15_input'\"), but it was called on an input with incompatible shape (None, 9).\n",
            "WARNING:tensorflow:Model was constructed with shape (None, 38872, 9) for input KerasTensor(type_spec=TensorSpec(shape=(None, 38872, 9), dtype=tf.float32, name='dense_15_input'), name='dense_15_input', description=\"created by layer 'dense_15_input'\"), but it was called on an input with incompatible shape (None, 9).\n",
            "WARNING:tensorflow:Model was constructed with shape (None, 38872, 9) for input KerasTensor(type_spec=TensorSpec(shape=(None, 38872, 9), dtype=tf.float32, name='dense_15_input'), name='dense_15_input', description=\"created by layer 'dense_15_input'\"), but it was called on an input with incompatible shape (None, 9).\n",
            "[9,8]: 815485.875 | 466.20635986328125 | 815485.875\n",
            "WARNING:tensorflow:Model was constructed with shape (None, 38872, 9) for input KerasTensor(type_spec=TensorSpec(shape=(None, 38872, 9), dtype=tf.float32, name='dense_18_input'), name='dense_18_input', description=\"created by layer 'dense_18_input'\"), but it was called on an input with incompatible shape (None, 9).\n",
            "WARNING:tensorflow:Model was constructed with shape (None, 38872, 9) for input KerasTensor(type_spec=TensorSpec(shape=(None, 38872, 9), dtype=tf.float32, name='dense_18_input'), name='dense_18_input', description=\"created by layer 'dense_18_input'\"), but it was called on an input with incompatible shape (None, 9).\n",
            "WARNING:tensorflow:Model was constructed with shape (None, 38872, 9) for input KerasTensor(type_spec=TensorSpec(shape=(None, 38872, 9), dtype=tf.float32, name='dense_18_input'), name='dense_18_input', description=\"created by layer 'dense_18_input'\"), but it was called on an input with incompatible shape (None, 9).\n",
            "[12,9]: 755343.4375 | 448.4542236328125 | 755343.4375\n",
            "WARNING:tensorflow:Model was constructed with shape (None, 38872, 9) for input KerasTensor(type_spec=TensorSpec(shape=(None, 38872, 9), dtype=tf.float32, name='dense_21_input'), name='dense_21_input', description=\"created by layer 'dense_21_input'\"), but it was called on an input with incompatible shape (None, 9).\n",
            "WARNING:tensorflow:Model was constructed with shape (None, 38872, 9) for input KerasTensor(type_spec=TensorSpec(shape=(None, 38872, 9), dtype=tf.float32, name='dense_21_input'), name='dense_21_input', description=\"created by layer 'dense_21_input'\"), but it was called on an input with incompatible shape (None, 9).\n",
            "WARNING:tensorflow:Model was constructed with shape (None, 38872, 9) for input KerasTensor(type_spec=TensorSpec(shape=(None, 38872, 9), dtype=tf.float32, name='dense_21_input'), name='dense_21_input', description=\"created by layer 'dense_21_input'\"), but it was called on an input with incompatible shape (None, 9).\n",
            "[13,12]: 710551.5625 | 411.5385437011719 | 710551.5625\n",
            "WARNING:tensorflow:Model was constructed with shape (None, 38872, 9) for input KerasTensor(type_spec=TensorSpec(shape=(None, 38872, 9), dtype=tf.float32, name='dense_24_input'), name='dense_24_input', description=\"created by layer 'dense_24_input'\"), but it was called on an input with incompatible shape (None, 9).\n",
            "WARNING:tensorflow:Model was constructed with shape (None, 38872, 9) for input KerasTensor(type_spec=TensorSpec(shape=(None, 38872, 9), dtype=tf.float32, name='dense_24_input'), name='dense_24_input', description=\"created by layer 'dense_24_input'\"), but it was called on an input with incompatible shape (None, 9).\n",
            "WARNING:tensorflow:Model was constructed with shape (None, 38872, 9) for input KerasTensor(type_spec=TensorSpec(shape=(None, 38872, 9), dtype=tf.float32, name='dense_24_input'), name='dense_24_input', description=\"created by layer 'dense_24_input'\"), but it was called on an input with incompatible shape (None, 9).\n",
            "[15,14]: 776254.875 | 445.1945495605469 | 776254.875\n",
            "Funcion de activacion: tanh\n",
            "WARNING:tensorflow:Model was constructed with shape (None, 38872, 9) for input KerasTensor(type_spec=TensorSpec(shape=(None, 38872, 9), dtype=tf.float32, name='dense_27_input'), name='dense_27_input', description=\"created by layer 'dense_27_input'\"), but it was called on an input with incompatible shape (None, 9).\n",
            "WARNING:tensorflow:Model was constructed with shape (None, 38872, 9) for input KerasTensor(type_spec=TensorSpec(shape=(None, 38872, 9), dtype=tf.float32, name='dense_27_input'), name='dense_27_input', description=\"created by layer 'dense_27_input'\"), but it was called on an input with incompatible shape (None, 9).\n",
            "WARNING:tensorflow:Model was constructed with shape (None, 38872, 9) for input KerasTensor(type_spec=TensorSpec(shape=(None, 38872, 9), dtype=tf.float32, name='dense_27_input'), name='dense_27_input', description=\"created by layer 'dense_27_input'\"), but it was called on an input with incompatible shape (None, 9).\n",
            "[9,5]: 28450662.0 | 3557.16943359375 | 28450662.0\n",
            "WARNING:tensorflow:Model was constructed with shape (None, 38872, 9) for input KerasTensor(type_spec=TensorSpec(shape=(None, 38872, 9), dtype=tf.float32, name='dense_30_input'), name='dense_30_input', description=\"created by layer 'dense_30_input'\"), but it was called on an input with incompatible shape (None, 9).\n",
            "WARNING:tensorflow:Model was constructed with shape (None, 38872, 9) for input KerasTensor(type_spec=TensorSpec(shape=(None, 38872, 9), dtype=tf.float32, name='dense_30_input'), name='dense_30_input', description=\"created by layer 'dense_30_input'\"), but it was called on an input with incompatible shape (None, 9).\n",
            "WARNING:tensorflow:Model was constructed with shape (None, 38872, 9) for input KerasTensor(type_spec=TensorSpec(shape=(None, 38872, 9), dtype=tf.float32, name='dense_30_input'), name='dense_30_input', description=\"created by layer 'dense_30_input'\"), but it was called on an input with incompatible shape (None, 9).\n",
            "[9,8]: 27194274.0 | 3382.649658203125 | 27194274.0\n",
            "WARNING:tensorflow:Model was constructed with shape (None, 38872, 9) for input KerasTensor(type_spec=TensorSpec(shape=(None, 38872, 9), dtype=tf.float32, name='dense_33_input'), name='dense_33_input', description=\"created by layer 'dense_33_input'\"), but it was called on an input with incompatible shape (None, 9).\n",
            "WARNING:tensorflow:Model was constructed with shape (None, 38872, 9) for input KerasTensor(type_spec=TensorSpec(shape=(None, 38872, 9), dtype=tf.float32, name='dense_33_input'), name='dense_33_input', description=\"created by layer 'dense_33_input'\"), but it was called on an input with incompatible shape (None, 9).\n",
            "WARNING:tensorflow:Model was constructed with shape (None, 38872, 9) for input KerasTensor(type_spec=TensorSpec(shape=(None, 38872, 9), dtype=tf.float32, name='dense_33_input'), name='dense_33_input', description=\"created by layer 'dense_33_input'\"), but it was called on an input with incompatible shape (None, 9).\n",
            "[12,9]: 26800680.0 | 3330.929931640625 | 26800680.0\n",
            "WARNING:tensorflow:Model was constructed with shape (None, 38872, 9) for input KerasTensor(type_spec=TensorSpec(shape=(None, 38872, 9), dtype=tf.float32, name='dense_36_input'), name='dense_36_input', description=\"created by layer 'dense_36_input'\"), but it was called on an input with incompatible shape (None, 9).\n",
            "WARNING:tensorflow:Model was constructed with shape (None, 38872, 9) for input KerasTensor(type_spec=TensorSpec(shape=(None, 38872, 9), dtype=tf.float32, name='dense_36_input'), name='dense_36_input', description=\"created by layer 'dense_36_input'\"), but it was called on an input with incompatible shape (None, 9).\n",
            "WARNING:tensorflow:Model was constructed with shape (None, 38872, 9) for input KerasTensor(type_spec=TensorSpec(shape=(None, 38872, 9), dtype=tf.float32, name='dense_36_input'), name='dense_36_input', description=\"created by layer 'dense_36_input'\"), but it was called on an input with incompatible shape (None, 9).\n",
            "[13,12]: 25645184.0 | 3194.677001953125 | 25645184.0\n",
            "WARNING:tensorflow:Model was constructed with shape (None, 38872, 9) for input KerasTensor(type_spec=TensorSpec(shape=(None, 38872, 9), dtype=tf.float32, name='dense_39_input'), name='dense_39_input', description=\"created by layer 'dense_39_input'\"), but it was called on an input with incompatible shape (None, 9).\n",
            "WARNING:tensorflow:Model was constructed with shape (None, 38872, 9) for input KerasTensor(type_spec=TensorSpec(shape=(None, 38872, 9), dtype=tf.float32, name='dense_39_input'), name='dense_39_input', description=\"created by layer 'dense_39_input'\"), but it was called on an input with incompatible shape (None, 9).\n",
            "WARNING:tensorflow:Model was constructed with shape (None, 38872, 9) for input KerasTensor(type_spec=TensorSpec(shape=(None, 38872, 9), dtype=tf.float32, name='dense_39_input'), name='dense_39_input', description=\"created by layer 'dense_39_input'\"), but it was called on an input with incompatible shape (None, 9).\n",
            "[15,14]: 24921412.0 | 3123.44482421875 | 24921412.0\n",
            "Funcion de activacion: sigmoid\n",
            "WARNING:tensorflow:Model was constructed with shape (None, 38872, 9) for input KerasTensor(type_spec=TensorSpec(shape=(None, 38872, 9), dtype=tf.float32, name='dense_42_input'), name='dense_42_input', description=\"created by layer 'dense_42_input'\"), but it was called on an input with incompatible shape (None, 9).\n",
            "WARNING:tensorflow:Model was constructed with shape (None, 38872, 9) for input KerasTensor(type_spec=TensorSpec(shape=(None, 38872, 9), dtype=tf.float32, name='dense_42_input'), name='dense_42_input', description=\"created by layer 'dense_42_input'\"), but it was called on an input with incompatible shape (None, 9).\n",
            "WARNING:tensorflow:Model was constructed with shape (None, 38872, 9) for input KerasTensor(type_spec=TensorSpec(shape=(None, 38872, 9), dtype=tf.float32, name='dense_42_input'), name='dense_42_input', description=\"created by layer 'dense_42_input'\"), but it was called on an input with incompatible shape (None, 9).\n",
            "[9,5]: 28483182.0 | 3561.731201171875 | 28483182.0\n",
            "WARNING:tensorflow:Model was constructed with shape (None, 38872, 9) for input KerasTensor(type_spec=TensorSpec(shape=(None, 38872, 9), dtype=tf.float32, name='dense_45_input'), name='dense_45_input', description=\"created by layer 'dense_45_input'\"), but it was called on an input with incompatible shape (None, 9).\n",
            "WARNING:tensorflow:Model was constructed with shape (None, 38872, 9) for input KerasTensor(type_spec=TensorSpec(shape=(None, 38872, 9), dtype=tf.float32, name='dense_45_input'), name='dense_45_input', description=\"created by layer 'dense_45_input'\"), but it was called on an input with incompatible shape (None, 9).\n",
            "WARNING:tensorflow:Model was constructed with shape (None, 38872, 9) for input KerasTensor(type_spec=TensorSpec(shape=(None, 38872, 9), dtype=tf.float32, name='dense_45_input'), name='dense_45_input', description=\"created by layer 'dense_45_input'\"), but it was called on an input with incompatible shape (None, 9).\n",
            "[9,8]: 27207258.0 | 3384.39013671875 | 27207258.0\n",
            "WARNING:tensorflow:Model was constructed with shape (None, 38872, 9) for input KerasTensor(type_spec=TensorSpec(shape=(None, 38872, 9), dtype=tf.float32, name='dense_48_input'), name='dense_48_input', description=\"created by layer 'dense_48_input'\"), but it was called on an input with incompatible shape (None, 9).\n",
            "WARNING:tensorflow:Model was constructed with shape (None, 38872, 9) for input KerasTensor(type_spec=TensorSpec(shape=(None, 38872, 9), dtype=tf.float32, name='dense_48_input'), name='dense_48_input', description=\"created by layer 'dense_48_input'\"), but it was called on an input with incompatible shape (None, 9).\n",
            "WARNING:tensorflow:Model was constructed with shape (None, 38872, 9) for input KerasTensor(type_spec=TensorSpec(shape=(None, 38872, 9), dtype=tf.float32, name='dense_48_input'), name='dense_48_input', description=\"created by layer 'dense_48_input'\"), but it was called on an input with incompatible shape (None, 9).\n",
            "[12,9]: 26836288.0 | 3335.509765625 | 26836288.0\n",
            "WARNING:tensorflow:Model was constructed with shape (None, 38872, 9) for input KerasTensor(type_spec=TensorSpec(shape=(None, 38872, 9), dtype=tf.float32, name='dense_51_input'), name='dense_51_input', description=\"created by layer 'dense_51_input'\"), but it was called on an input with incompatible shape (None, 9).\n",
            "WARNING:tensorflow:Model was constructed with shape (None, 38872, 9) for input KerasTensor(type_spec=TensorSpec(shape=(None, 38872, 9), dtype=tf.float32, name='dense_51_input'), name='dense_51_input', description=\"created by layer 'dense_51_input'\"), but it was called on an input with incompatible shape (None, 9).\n",
            "WARNING:tensorflow:Model was constructed with shape (None, 38872, 9) for input KerasTensor(type_spec=TensorSpec(shape=(None, 38872, 9), dtype=tf.float32, name='dense_51_input'), name='dense_51_input', description=\"created by layer 'dense_51_input'\"), but it was called on an input with incompatible shape (None, 9).\n",
            "[13,12]: 25713576.0 | 3201.995361328125 | 25713576.0\n",
            "WARNING:tensorflow:Model was constructed with shape (None, 38872, 9) for input KerasTensor(type_spec=TensorSpec(shape=(None, 38872, 9), dtype=tf.float32, name='dense_54_input'), name='dense_54_input', description=\"created by layer 'dense_54_input'\"), but it was called on an input with incompatible shape (None, 9).\n",
            "WARNING:tensorflow:Model was constructed with shape (None, 38872, 9) for input KerasTensor(type_spec=TensorSpec(shape=(None, 38872, 9), dtype=tf.float32, name='dense_54_input'), name='dense_54_input', description=\"created by layer 'dense_54_input'\"), but it was called on an input with incompatible shape (None, 9).\n",
            "WARNING:tensorflow:Model was constructed with shape (None, 38872, 9) for input KerasTensor(type_spec=TensorSpec(shape=(None, 38872, 9), dtype=tf.float32, name='dense_54_input'), name='dense_54_input', description=\"created by layer 'dense_54_input'\"), but it was called on an input with incompatible shape (None, 9).\n",
            "[15,14]: 24977240.0 | 3128.53662109375 | 24977240.0\n"
          ],
          "name": "stdout"
        }
      ]
    },
    {
      "cell_type": "code",
      "metadata": {
        "id": "SjR8_FjcFGnr"
      },
      "source": [
        "print(f'Funcion de activacion: {act}')\n",
        "print(f'Values  |     loss     |   mae   |    mse   ')\n",
        "print(f'---------------------------------------------')\n",
        "print(f'[{values1[i]},{values2[i]}]: {loss} | {mae} | {mse}')"
      ],
      "execution_count": null,
      "outputs": []
    },
    {
      "cell_type": "markdown",
      "metadata": {
        "id": "3ae7O2udArtB"
      },
      "source": [
        "Con los resultados anteriores podemos notar que el modelo con mejor desempeño es el que tiene función de activación relu, que posee 13 neuronas en el *input layer* y 12 neuronas en el *hidden layer*. \n",
        "\n",
        "Con esta confirguración el modelo alcanzó un mae mínimo cercano a 411, un mse cercano a 710,551 y un loss de 710,551 igualmente.\n",
        "\n",
        "Cabe destacar que los modelos con función de activación relu tuvieron notablemente mejor desempeño que los que tienen función de activación tanh y sigmoid para cualquier configuración de neuronas.\n",
        "\n",
        "Además, me gustaría agregar que comencé la validación de datos con un *output layer* con 9 neuronas y el mejor resultado encontrado fue cercano a los 1,600 en mae, con la función tanh. Al cambiar el número de neuronas del layer final a 1, el mejor resultado bajó su valor de manera considerable pero esta vez para los modelos con función de activación relu. Por su parte, los modelos con función de activación tanh empeoraron considerablemente su resultado con este cambio.\n",
        "\n"
      ]
    },
    {
      "cell_type": "markdown",
      "metadata": {
        "id": "mwlKtW8CCukj"
      },
      "source": [
        "Procedemos a testear el modelo con la configuración que consiguió mejores resultados en el test de validación"
      ]
    },
    {
      "cell_type": "code",
      "metadata": {
        "colab": {
          "base_uri": "https://localhost:8080/"
        },
        "id": "XQfUC2Gslf1k",
        "outputId": "3ff5ba12-55d3-4b5c-a4d4-d3d4e2bca29b"
      },
      "source": [
        "p3_model = Sequential()\n",
        "input_layer = Dense(13, input_shape=X_train.shape, activation='relu')\n",
        "p3_model.add(input_layer)\n",
        "hidden_layer = Dense(12, activation='relu')\n",
        "p3_model.add(hidden_layer)\n",
        "output_layer = Dense(1)\n",
        "p3_model.add(output_layer)\n",
        "p3_model.compile(loss='mse', optimizer='adam', metrics=metrics_list)\n",
        "p3_history = p3_model.fit(X_train, Y_train, epochs=50, batch_size=32,verbose=0)\n",
        "print(f'Resultado del modelo con activacion relu y values [13, 12, 1]')\n",
        "loss, mae, mse = p3_model.evaluate(X_test,Y_test,verbose=1)\n",
        "print(f'loss: {loss} | mae: {mae} | mse: {mse}')"
      ],
      "execution_count": 110,
      "outputs": [
        {
          "output_type": "stream",
          "text": [
            "WARNING:tensorflow:Model was constructed with shape (None, 38872, 9) for input KerasTensor(type_spec=TensorSpec(shape=(None, 38872, 9), dtype=tf.float32, name='dense_64_input'), name='dense_64_input', description=\"created by layer 'dense_64_input'\"), but it was called on an input with incompatible shape (None, 9).\n",
            "WARNING:tensorflow:Model was constructed with shape (None, 38872, 9) for input KerasTensor(type_spec=TensorSpec(shape=(None, 38872, 9), dtype=tf.float32, name='dense_64_input'), name='dense_64_input', description=\"created by layer 'dense_64_input'\"), but it was called on an input with incompatible shape (None, 9).\n",
            "Resultado del modelo con activacion relu y values [13, 12, 1]\n",
            "WARNING:tensorflow:Model was constructed with shape (None, 38872, 9) for input KerasTensor(type_spec=TensorSpec(shape=(None, 38872, 9), dtype=tf.float32, name='dense_64_input'), name='dense_64_input', description=\"created by layer 'dense_64_input'\"), but it was called on an input with incompatible shape (None, 9).\n",
            "168/168 [==============================] - 0s 2ms/step - loss: 809992.4375 - mae: 464.9499 - mse: 809992.4375\n",
            "loss: 809992.4375 | mae: 464.9498596191406 | mse: 809992.4375\n"
          ],
          "name": "stdout"
        }
      ]
    },
    {
      "cell_type": "code",
      "metadata": {
        "id": "AzEAkviVfbBL"
      },
      "source": [
        "p3y_predicted = p3_model.predict(X_test)"
      ],
      "execution_count": null,
      "outputs": []
    },
    {
      "cell_type": "markdown",
      "metadata": {
        "id": "q5o3-LU2L4iH"
      },
      "source": [
        "Al entrenar nuevamente el modelo con mejores resultados en el set de validación y ponerlo a prueba en el set de test notamos que el resultado empeora de 411 a 464 en mae, diferencia porcentualmente significativa, ya que corresponde a una diferencia de 53 unidades, cerca de un 12.9% más con respecto al desemepeño en el set de validación."
      ]
    },
    {
      "cell_type": "code",
      "metadata": {
        "id": "6nWYmlRqAXej"
      },
      "source": [
        "epochs = [i for i in range(1,51)]"
      ],
      "execution_count": 111,
      "outputs": []
    },
    {
      "cell_type": "code",
      "metadata": {
        "colab": {
          "base_uri": "https://localhost:8080/",
          "height": 295
        },
        "id": "J5DeCZsU-LCS",
        "outputId": "cb90f044-8470-441f-e21d-29210615739d"
      },
      "source": [
        "plt.plot(epochs, p3_history.history['mae'], c='red')\n",
        "plt.plot(epochs, p3_history.history['mse'], c='blue')\n",
        "plt.title('mae y mse a través de los epochs')\n",
        "plt.ylabel('mae y mse')\n",
        "plt.xlabel('epochs')\n",
        "plt.legend(['mae', 'mse'], loc='upper right')\n",
        "plt.show()"
      ],
      "execution_count": 116,
      "outputs": [
        {
          "output_type": "display_data",
          "data": {
            "image/png": "[encoded data removed]",
            "text/plain": [
              "<Figure size 432x288 with 1 Axes>"
            ]
          },
          "metadata": {
            "tags": [],
            "needs_background": "light"
          }
        }
      ]
    },
    {
      "cell_type": "markdown",
      "metadata": {
        "id": "FPyXyLCyGK1p"
      },
      "source": [
        "Podemos observar que mse se cuentra siempre sobre mae y que los primeros valores de mse son bastante elevados, lo que provoca perder detalle del progreso de ambas métricas a lo largo de los epochs.\n",
        "\n",
        "Se procede a separar los gráficos para tener información gráfica más clara en cuanto a al avance.\n"
      ]
    },
    {
      "cell_type": "code",
      "metadata": {
        "colab": {
          "base_uri": "https://localhost:8080/",
          "height": 295
        },
        "id": "zdx6DTF2FFk0",
        "outputId": "a539b809-ca86-4051-91ea-2bf200b34c91"
      },
      "source": [
        "plt.plot(epochs, p3_history.history['mae'], c='red')\n",
        "plt.title('mae a través de los epochs')\n",
        "plt.ylabel('mae')\n",
        "plt.xlabel('epochs')\n",
        "plt.show()"
      ],
      "execution_count": 117,
      "outputs": [
        {
          "output_type": "display_data",
          "data": {
            "image/png": "[encoded data removed]",
            "text/plain": [
              "<Figure size 432x288 with 1 Axes>"
            ]
          },
          "metadata": {
            "tags": [],
            "needs_background": "light"
          }
        }
      ]
    },
    {
      "cell_type": "markdown",
      "metadata": {
        "id": "X0Rqssr8GnKs"
      },
      "source": [
        "Con el gráfico de mae aislado podemos notar que el valor que toma en los primeros epochs son bastante elevados y cerca del epoch 5 toma valores aceptables. Además podemos notar que entre los epochs 30 y 40 su tasa de mejora disminuye bastante"
      ]
    },
    {
      "cell_type": "code",
      "metadata": {
        "colab": {
          "base_uri": "https://localhost:8080/",
          "height": 295
        },
        "id": "UEDp9xlCFFgR",
        "outputId": "0938457c-f88f-4663-8d30-41654d47292c"
      },
      "source": [
        "plt.plot(epochs[2:], p3_history.history['mse'][2:], c='blue')\n",
        "plt.title('mse a través de los epochs')\n",
        "plt.ylabel('mse')\n",
        "plt.xlabel('epochs')\n",
        "plt.show()"
      ],
      "execution_count": 118,
      "outputs": [
        {
          "output_type": "display_data",
          "data": {
            "image/png": "[encoded data removed]",
            "text/plain": [
              "<Figure size 432x288 with 1 Axes>"
            ]
          },
          "metadata": {
            "tags": [],
            "needs_background": "light"
          }
        }
      ]
    },
    {
      "cell_type": "markdown",
      "metadata": {
        "id": "kmCpVaHSFyjD"
      },
      "source": [
        "Se descartan los 2 primeros valores de mse para poder apreciar de mejor manera la disminución del valor a través de los epochs, ya que los primeros dos valores escapan mucho con respecto a los otros y no permiten visualizar de manera detallada el avance del modelo con respecto a esta métrica."
      ]
    },
    {
      "cell_type": "markdown",
      "metadata": {
        "id": "Zy4VoUUQh24d"
      },
      "source": [
        "#Pregunta 4"
      ]
    },
    {
      "cell_type": "markdown",
      "metadata": {
        "id": "WmJQH-tEwgRI"
      },
      "source": [
        "Se procede a hacer un nuevo estudio agregando nuevas capas intermedias. Se mantuvo la función de activación relu y los valores de neuronas presentes en los *layers* de *input*, *pre_hidden* (referencia a que era el hidden original) y *output*. \n",
        "\n",
        "En particular, se hace un estudio con 1, 2 y 3 capas agregadas, dando un total de 4, 5 y 6 capas respectivamente. De esta manera se prueba el modelo con los valores antes definidos y nuevas variables de valores especificados más abajo.\n",
        "\n",
        "Las nuevas capas fueron agregadas entre la capa de *input* y la capa *pre_hidden*, que corresponde al *hidden layer* de la pregunta 3.\n",
        "\n",
        "En términos generales podemos mencionar mejoras en cuanto al desempeño del modelo en la predicción. De esta manera, podemos deducir que un mayor aprendizaje de este sobre el set de datos está siendo favorable para la predicción de datos y no está causando *overfitting* (a priori).\n",
        "\n"
      ]
    },
    {
      "cell_type": "code",
      "metadata": {
        "id": "nFjlNJaLxytT"
      },
      "source": [
        "metrics_list = ['mae', 'mse']\n",
        "values3 = [14, 14, 9, 13, 15]\n",
        "values4 = [13, 9, 13, 9, 14]\n",
        "values5 = [14, 13, 9, 14, 13]"
      ],
      "execution_count": 119,
      "outputs": []
    },
    {
      "cell_type": "code",
      "metadata": {
        "id": "7aBpuC_Lh5NZ",
        "colab": {
          "base_uri": "https://localhost:8080/"
        },
        "outputId": "35def125-d2c4-4f4b-e632-88e15586eaf7"
      },
      "source": [
        "lossList2 = []\n",
        "mseList2 = []\n",
        "maeList2 = []\n",
        "for l in range(1,4):\n",
        "  for i in range(0, len(values3)):\n",
        "    model = Sequential()\n",
        "    input_layer = Dense(13, input_shape=X_train.shape, activation='relu')\n",
        "    model.add(input_layer)\n",
        "    if l >= 1:\n",
        "      hidden1_layer = Dense(values3[i], activation='relu')\n",
        "      model.add(hidden1_layer)\n",
        "    if l >= 2:\n",
        "      hidden2_layer = Dense(values4[i], activation='relu')\n",
        "      model.add(hidden2_layer)\n",
        "    if l >= 3:\n",
        "      hidden3_layer = Dense(values5[i], activation='relu')\n",
        "      model.add(hidden3_layer)\n",
        "    pre_hidden_layer = Dense(12, activation='relu')\n",
        "    model.add(pre_hidden_layer)\n",
        "    output_layer = Dense(1)\n",
        "    model.add(output_layer)\n",
        "    model.compile(loss='mse', optimizer='adam', metrics=metrics_list)\n",
        "    history = model.fit(X_train, Y_train, epochs=50, batch_size=32,verbose=0)\n",
        "    loss, mae, mse = model.evaluate(X_val,Y_val,verbose=0)\n",
        "    if l == 1:\n",
        "      print(f'[13,{values3[i]},12,1]: {loss} | {mae} | {mse}')\n",
        "    if l == 2:\n",
        "      print(f'[13,{values3[i]},{values4[i]},12,1]: {loss} | {mae} | {mse}')\n",
        "    if l == 3:\n",
        "      print(f'[13,{values3[i]},{values4[i]},{values5[i]},12,1]: {loss} | {mae} | {mse}')\n",
        "    lossList2.append(loss)\n",
        "    mseList2.append(mse)\n",
        "    maeList2.append(mae)"
      ],
      "execution_count": 122,
      "outputs": [
        {
          "output_type": "stream",
          "text": [
            "WARNING:tensorflow:Model was constructed with shape (None, 38872, 9) for input KerasTensor(type_spec=TensorSpec(shape=(None, 38872, 9), dtype=tf.float32, name='dense_120_input'), name='dense_120_input', description=\"created by layer 'dense_120_input'\"), but it was called on an input with incompatible shape (None, 9).\n",
            "WARNING:tensorflow:Model was constructed with shape (None, 38872, 9) for input KerasTensor(type_spec=TensorSpec(shape=(None, 38872, 9), dtype=tf.float32, name='dense_120_input'), name='dense_120_input', description=\"created by layer 'dense_120_input'\"), but it was called on an input with incompatible shape (None, 9).\n",
            "WARNING:tensorflow:Model was constructed with shape (None, 38872, 9) for input KerasTensor(type_spec=TensorSpec(shape=(None, 38872, 9), dtype=tf.float32, name='dense_120_input'), name='dense_120_input', description=\"created by layer 'dense_120_input'\"), but it was called on an input with incompatible shape (None, 9).\n",
            "[13,14,12,1]: 639432.875 | 394.256103515625 | 639432.875\n",
            "WARNING:tensorflow:Model was constructed with shape (None, 38872, 9) for input KerasTensor(type_spec=TensorSpec(shape=(None, 38872, 9), dtype=tf.float32, name='dense_124_input'), name='dense_124_input', description=\"created by layer 'dense_124_input'\"), but it was called on an input with incompatible shape (None, 9).\n",
            "WARNING:tensorflow:Model was constructed with shape (None, 38872, 9) for input KerasTensor(type_spec=TensorSpec(shape=(None, 38872, 9), dtype=tf.float32, name='dense_124_input'), name='dense_124_input', description=\"created by layer 'dense_124_input'\"), but it was called on an input with incompatible shape (None, 9).\n",
            "WARNING:tensorflow:Model was constructed with shape (None, 38872, 9) for input KerasTensor(type_spec=TensorSpec(shape=(None, 38872, 9), dtype=tf.float32, name='dense_124_input'), name='dense_124_input', description=\"created by layer 'dense_124_input'\"), but it was called on an input with incompatible shape (None, 9).\n",
            "[13,14,12,1]: 784765.1875 | 436.0372619628906 | 784765.1875\n",
            "WARNING:tensorflow:Model was constructed with shape (None, 38872, 9) for input KerasTensor(type_spec=TensorSpec(shape=(None, 38872, 9), dtype=tf.float32, name='dense_128_input'), name='dense_128_input', description=\"created by layer 'dense_128_input'\"), but it was called on an input with incompatible shape (None, 9).\n",
            "WARNING:tensorflow:Model was constructed with shape (None, 38872, 9) for input KerasTensor(type_spec=TensorSpec(shape=(None, 38872, 9), dtype=tf.float32, name='dense_128_input'), name='dense_128_input', description=\"created by layer 'dense_128_input'\"), but it was called on an input with incompatible shape (None, 9).\n",
            "WARNING:tensorflow:Model was constructed with shape (None, 38872, 9) for input KerasTensor(type_spec=TensorSpec(shape=(None, 38872, 9), dtype=tf.float32, name='dense_128_input'), name='dense_128_input', description=\"created by layer 'dense_128_input'\"), but it was called on an input with incompatible shape (None, 9).\n",
            "[13,9,12,1]: 789181.75 | 436.63037109375 | 789181.75\n",
            "WARNING:tensorflow:Model was constructed with shape (None, 38872, 9) for input KerasTensor(type_spec=TensorSpec(shape=(None, 38872, 9), dtype=tf.float32, name='dense_132_input'), name='dense_132_input', description=\"created by layer 'dense_132_input'\"), but it was called on an input with incompatible shape (None, 9).\n",
            "WARNING:tensorflow:Model was constructed with shape (None, 38872, 9) for input KerasTensor(type_spec=TensorSpec(shape=(None, 38872, 9), dtype=tf.float32, name='dense_132_input'), name='dense_132_input', description=\"created by layer 'dense_132_input'\"), but it was called on an input with incompatible shape (None, 9).\n",
            "WARNING:tensorflow:Model was constructed with shape (None, 38872, 9) for input KerasTensor(type_spec=TensorSpec(shape=(None, 38872, 9), dtype=tf.float32, name='dense_132_input'), name='dense_132_input', description=\"created by layer 'dense_132_input'\"), but it was called on an input with incompatible shape (None, 9).\n",
            "[13,13,12,1]: 669821.8125 | 403.48529052734375 | 669821.8125\n",
            "WARNING:tensorflow:Model was constructed with shape (None, 38872, 9) for input KerasTensor(type_spec=TensorSpec(shape=(None, 38872, 9), dtype=tf.float32, name='dense_136_input'), name='dense_136_input', description=\"created by layer 'dense_136_input'\"), but it was called on an input with incompatible shape (None, 9).\n",
            "WARNING:tensorflow:Model was constructed with shape (None, 38872, 9) for input KerasTensor(type_spec=TensorSpec(shape=(None, 38872, 9), dtype=tf.float32, name='dense_136_input'), name='dense_136_input', description=\"created by layer 'dense_136_input'\"), but it was called on an input with incompatible shape (None, 9).\n",
            "WARNING:tensorflow:Model was constructed with shape (None, 38872, 9) for input KerasTensor(type_spec=TensorSpec(shape=(None, 38872, 9), dtype=tf.float32, name='dense_136_input'), name='dense_136_input', description=\"created by layer 'dense_136_input'\"), but it was called on an input with incompatible shape (None, 9).\n",
            "[13,15,12,1]: 797366.8125 | 443.9998474121094 | 797366.8125\n",
            "WARNING:tensorflow:Model was constructed with shape (None, 38872, 9) for input KerasTensor(type_spec=TensorSpec(shape=(None, 38872, 9), dtype=tf.float32, name='dense_140_input'), name='dense_140_input', description=\"created by layer 'dense_140_input'\"), but it was called on an input with incompatible shape (None, 9).\n",
            "WARNING:tensorflow:Model was constructed with shape (None, 38872, 9) for input KerasTensor(type_spec=TensorSpec(shape=(None, 38872, 9), dtype=tf.float32, name='dense_140_input'), name='dense_140_input', description=\"created by layer 'dense_140_input'\"), but it was called on an input with incompatible shape (None, 9).\n",
            "WARNING:tensorflow:Model was constructed with shape (None, 38872, 9) for input KerasTensor(type_spec=TensorSpec(shape=(None, 38872, 9), dtype=tf.float32, name='dense_140_input'), name='dense_140_input', description=\"created by layer 'dense_140_input'\"), but it was called on an input with incompatible shape (None, 9).\n",
            "[13,14,13,12,1]: 604406.375 | 388.4380798339844 | 604406.375\n",
            "WARNING:tensorflow:Model was constructed with shape (None, 38872, 9) for input KerasTensor(type_spec=TensorSpec(shape=(None, 38872, 9), dtype=tf.float32, name='dense_145_input'), name='dense_145_input', description=\"created by layer 'dense_145_input'\"), but it was called on an input with incompatible shape (None, 9).\n",
            "WARNING:tensorflow:Model was constructed with shape (None, 38872, 9) for input KerasTensor(type_spec=TensorSpec(shape=(None, 38872, 9), dtype=tf.float32, name='dense_145_input'), name='dense_145_input', description=\"created by layer 'dense_145_input'\"), but it was called on an input with incompatible shape (None, 9).\n",
            "WARNING:tensorflow:Model was constructed with shape (None, 38872, 9) for input KerasTensor(type_spec=TensorSpec(shape=(None, 38872, 9), dtype=tf.float32, name='dense_145_input'), name='dense_145_input', description=\"created by layer 'dense_145_input'\"), but it was called on an input with incompatible shape (None, 9).\n",
            "[13,14,9,12,1]: 506509.15625 | 356.06109619140625 | 506509.15625\n",
            "WARNING:tensorflow:Model was constructed with shape (None, 38872, 9) for input KerasTensor(type_spec=TensorSpec(shape=(None, 38872, 9), dtype=tf.float32, name='dense_150_input'), name='dense_150_input', description=\"created by layer 'dense_150_input'\"), but it was called on an input with incompatible shape (None, 9).\n",
            "WARNING:tensorflow:Model was constructed with shape (None, 38872, 9) for input KerasTensor(type_spec=TensorSpec(shape=(None, 38872, 9), dtype=tf.float32, name='dense_150_input'), name='dense_150_input', description=\"created by layer 'dense_150_input'\"), but it was called on an input with incompatible shape (None, 9).\n",
            "WARNING:tensorflow:Model was constructed with shape (None, 38872, 9) for input KerasTensor(type_spec=TensorSpec(shape=(None, 38872, 9), dtype=tf.float32, name='dense_150_input'), name='dense_150_input', description=\"created by layer 'dense_150_input'\"), but it was called on an input with incompatible shape (None, 9).\n",
            "[13,9,13,12,1]: 626665.375 | 399.3324890136719 | 626665.375\n",
            "WARNING:tensorflow:Model was constructed with shape (None, 38872, 9) for input KerasTensor(type_spec=TensorSpec(shape=(None, 38872, 9), dtype=tf.float32, name='dense_155_input'), name='dense_155_input', description=\"created by layer 'dense_155_input'\"), but it was called on an input with incompatible shape (None, 9).\n",
            "WARNING:tensorflow:Model was constructed with shape (None, 38872, 9) for input KerasTensor(type_spec=TensorSpec(shape=(None, 38872, 9), dtype=tf.float32, name='dense_155_input'), name='dense_155_input', description=\"created by layer 'dense_155_input'\"), but it was called on an input with incompatible shape (None, 9).\n",
            "WARNING:tensorflow:Model was constructed with shape (None, 38872, 9) for input KerasTensor(type_spec=TensorSpec(shape=(None, 38872, 9), dtype=tf.float32, name='dense_155_input'), name='dense_155_input', description=\"created by layer 'dense_155_input'\"), but it was called on an input with incompatible shape (None, 9).\n",
            "[13,13,9,12,1]: 741787.9375 | 424.30084228515625 | 741787.9375\n",
            "WARNING:tensorflow:Model was constructed with shape (None, 38872, 9) for input KerasTensor(type_spec=TensorSpec(shape=(None, 38872, 9), dtype=tf.float32, name='dense_160_input'), name='dense_160_input', description=\"created by layer 'dense_160_input'\"), but it was called on an input with incompatible shape (None, 9).\n",
            "WARNING:tensorflow:Model was constructed with shape (None, 38872, 9) for input KerasTensor(type_spec=TensorSpec(shape=(None, 38872, 9), dtype=tf.float32, name='dense_160_input'), name='dense_160_input', description=\"created by layer 'dense_160_input'\"), but it was called on an input with incompatible shape (None, 9).\n",
            "WARNING:tensorflow:Model was constructed with shape (None, 38872, 9) for input KerasTensor(type_spec=TensorSpec(shape=(None, 38872, 9), dtype=tf.float32, name='dense_160_input'), name='dense_160_input', description=\"created by layer 'dense_160_input'\"), but it was called on an input with incompatible shape (None, 9).\n",
            "[13,15,14,12,1]: 510861.5 | 357.3056335449219 | 510861.5\n",
            "WARNING:tensorflow:Model was constructed with shape (None, 38872, 9) for input KerasTensor(type_spec=TensorSpec(shape=(None, 38872, 9), dtype=tf.float32, name='dense_165_input'), name='dense_165_input', description=\"created by layer 'dense_165_input'\"), but it was called on an input with incompatible shape (None, 9).\n",
            "WARNING:tensorflow:Model was constructed with shape (None, 38872, 9) for input KerasTensor(type_spec=TensorSpec(shape=(None, 38872, 9), dtype=tf.float32, name='dense_165_input'), name='dense_165_input', description=\"created by layer 'dense_165_input'\"), but it was called on an input with incompatible shape (None, 9).\n",
            "WARNING:tensorflow:Model was constructed with shape (None, 38872, 9) for input KerasTensor(type_spec=TensorSpec(shape=(None, 38872, 9), dtype=tf.float32, name='dense_165_input'), name='dense_165_input', description=\"created by layer 'dense_165_input'\"), but it was called on an input with incompatible shape (None, 9).\n",
            "[13,14,13,14,12,1]: 651501.0 | 398.9507751464844 | 651501.0\n",
            "WARNING:tensorflow:Model was constructed with shape (None, 38872, 9) for input KerasTensor(type_spec=TensorSpec(shape=(None, 38872, 9), dtype=tf.float32, name='dense_171_input'), name='dense_171_input', description=\"created by layer 'dense_171_input'\"), but it was called on an input with incompatible shape (None, 9).\n",
            "WARNING:tensorflow:Model was constructed with shape (None, 38872, 9) for input KerasTensor(type_spec=TensorSpec(shape=(None, 38872, 9), dtype=tf.float32, name='dense_171_input'), name='dense_171_input', description=\"created by layer 'dense_171_input'\"), but it was called on an input with incompatible shape (None, 9).\n",
            "WARNING:tensorflow:Model was constructed with shape (None, 38872, 9) for input KerasTensor(type_spec=TensorSpec(shape=(None, 38872, 9), dtype=tf.float32, name='dense_171_input'), name='dense_171_input', description=\"created by layer 'dense_171_input'\"), but it was called on an input with incompatible shape (None, 9).\n",
            "[13,14,9,13,12,1]: 413584.03125 | 334.5040283203125 | 413584.03125\n",
            "WARNING:tensorflow:Model was constructed with shape (None, 38872, 9) for input KerasTensor(type_spec=TensorSpec(shape=(None, 38872, 9), dtype=tf.float32, name='dense_177_input'), name='dense_177_input', description=\"created by layer 'dense_177_input'\"), but it was called on an input with incompatible shape (None, 9).\n",
            "WARNING:tensorflow:Model was constructed with shape (None, 38872, 9) for input KerasTensor(type_spec=TensorSpec(shape=(None, 38872, 9), dtype=tf.float32, name='dense_177_input'), name='dense_177_input', description=\"created by layer 'dense_177_input'\"), but it was called on an input with incompatible shape (None, 9).\n",
            "WARNING:tensorflow:Model was constructed with shape (None, 38872, 9) for input KerasTensor(type_spec=TensorSpec(shape=(None, 38872, 9), dtype=tf.float32, name='dense_177_input'), name='dense_177_input', description=\"created by layer 'dense_177_input'\"), but it was called on an input with incompatible shape (None, 9).\n",
            "[13,9,13,9,12,1]: 449477.25 | 344.157470703125 | 449477.25\n",
            "WARNING:tensorflow:Model was constructed with shape (None, 38872, 9) for input KerasTensor(type_spec=TensorSpec(shape=(None, 38872, 9), dtype=tf.float32, name='dense_183_input'), name='dense_183_input', description=\"created by layer 'dense_183_input'\"), but it was called on an input with incompatible shape (None, 9).\n",
            "WARNING:tensorflow:Model was constructed with shape (None, 38872, 9) for input KerasTensor(type_spec=TensorSpec(shape=(None, 38872, 9), dtype=tf.float32, name='dense_183_input'), name='dense_183_input', description=\"created by layer 'dense_183_input'\"), but it was called on an input with incompatible shape (None, 9).\n",
            "WARNING:tensorflow:Model was constructed with shape (None, 38872, 9) for input KerasTensor(type_spec=TensorSpec(shape=(None, 38872, 9), dtype=tf.float32, name='dense_183_input'), name='dense_183_input', description=\"created by layer 'dense_183_input'\"), but it was called on an input with incompatible shape (None, 9).\n",
            "[13,13,9,14,12,1]: 617803.625 | 392.1350402832031 | 617803.625\n",
            "WARNING:tensorflow:Model was constructed with shape (None, 38872, 9) for input KerasTensor(type_spec=TensorSpec(shape=(None, 38872, 9), dtype=tf.float32, name='dense_189_input'), name='dense_189_input', description=\"created by layer 'dense_189_input'\"), but it was called on an input with incompatible shape (None, 9).\n",
            "WARNING:tensorflow:Model was constructed with shape (None, 38872, 9) for input KerasTensor(type_spec=TensorSpec(shape=(None, 38872, 9), dtype=tf.float32, name='dense_189_input'), name='dense_189_input', description=\"created by layer 'dense_189_input'\"), but it was called on an input with incompatible shape (None, 9).\n",
            "WARNING:tensorflow:Model was constructed with shape (None, 38872, 9) for input KerasTensor(type_spec=TensorSpec(shape=(None, 38872, 9), dtype=tf.float32, name='dense_189_input'), name='dense_189_input', description=\"created by layer 'dense_189_input'\"), but it was called on an input with incompatible shape (None, 9).\n",
            "[13,15,14,13,12,1]: 442707.5 | 338.5342712402344 | 442707.5\n"
          ],
          "name": "stdout"
        }
      ]
    },
    {
      "cell_type": "markdown",
      "metadata": {
        "id": "xNldJcsbFxvt"
      },
      "source": [
        "AL revisar los resultados obtenidos con los *layers* agregados podemos mencionar que el mejor resultado se obtuvo con la inserción de 3 layers extra, es decir, con un modelo con 6 layers en total. \n",
        "\n",
        "Estos resultados, no nos permiten decir que \"mientras más layers mejor\", ya que nos encontramos en un espacio de prueba bastante acotado y este no nos asegura que un resultado con 100 layers sea mejor que uno con 70 en términos generales, por ejemplo.\n",
        "\n",
        "Si podemos deducir de esta etapa de validación que 3 layers pueden ser insuficientes al momento de aprender de un set de datos, haciendo deseable una cantidad de layers cercano a 10 (más que a 3).\n",
        "\n",
        "En particular, el mejor resultado se obtuvo con 6 layers con valores 13, 14, 9, 13, 12, 1 en cuanto a la cantidad de neuronas utilizadas. Esta configuración logró llegar a un mínimo de mae cercano a 335."
      ]
    },
    {
      "cell_type": "code",
      "metadata": {
        "colab": {
          "base_uri": "https://localhost:8080/"
        },
        "id": "PrS-6oS8ca8G",
        "outputId": "cc9eb9ac-8ad1-4db4-c833-bf5b82f39b13"
      },
      "source": [
        "p4_model = Sequential()\n",
        "input_layer = Dense(13, input_shape=X_train.shape, activation='relu')\n",
        "p4_model.add(input_layer)\n",
        "hidden1_layer = Dense(14, activation='relu')\n",
        "p4_model.add(hidden1_layer)\n",
        "hidden2_layer = Dense(9, activation='relu')\n",
        "p4_model.add(hidden2_layer)\n",
        "hidden3_layer = Dense(13, activation='relu')\n",
        "p4_model.add(hidden3_layer)\n",
        "pre_hidden_layer = Dense(12, activation='relu')\n",
        "p4_model.add(pre_hidden_layer)\n",
        "output_layer = Dense(1)\n",
        "p4_model.add(output_layer)\n",
        "p4_model.compile(loss='mse', optimizer='adam', metrics=metrics_list)\n",
        "p4_history = p4_model.fit(X_train, Y_train, epochs=50, batch_size=32,verbose=0)\n",
        "loss, mae, mse = p4_model.evaluate(X_test,Y_test,verbose=0)\n",
        "print(f'[15,14,9,13,14,1]: {loss} | {mae} | {mse}')"
      ],
      "execution_count": 123,
      "outputs": [
        {
          "output_type": "stream",
          "text": [
            "WARNING:tensorflow:Model was constructed with shape (None, 38872, 9) for input KerasTensor(type_spec=TensorSpec(shape=(None, 38872, 9), dtype=tf.float32, name='dense_195_input'), name='dense_195_input', description=\"created by layer 'dense_195_input'\"), but it was called on an input with incompatible shape (None, 9).\n",
            "WARNING:tensorflow:Model was constructed with shape (None, 38872, 9) for input KerasTensor(type_spec=TensorSpec(shape=(None, 38872, 9), dtype=tf.float32, name='dense_195_input'), name='dense_195_input', description=\"created by layer 'dense_195_input'\"), but it was called on an input with incompatible shape (None, 9).\n",
            "WARNING:tensorflow:Model was constructed with shape (None, 38872, 9) for input KerasTensor(type_spec=TensorSpec(shape=(None, 38872, 9), dtype=tf.float32, name='dense_195_input'), name='dense_195_input', description=\"created by layer 'dense_195_input'\"), but it was called on an input with incompatible shape (None, 9).\n",
            "[15,14,9,13,14,1]: 425487.875 | 339.91094970703125 | 425487.875\n"
          ],
          "name": "stdout"
        }
      ]
    },
    {
      "cell_type": "markdown",
      "metadata": {
        "id": "yRdLxGsc4qk7"
      },
      "source": [
        "Notamos que el desempeño del modelo sufrió una variación porcentual menor a la variación que sufrió nuestro modelo de 3 capas.\n",
        "\n",
        "El modelo antes mencionado sufrió una variación de 12.5% en su desemepeño entre los set de validación y de test, mientras que el modelo con 6 capas sufrió una variación desde 335 a 339, es decir 4 puntos, lo que corresponde a un 1.2%."
      ]
    },
    {
      "cell_type": "code",
      "metadata": {
        "id": "ESojR1mLfD5h"
      },
      "source": [
        "p4y_predicted = p4_model.predict(X_test)"
      ],
      "execution_count": 124,
      "outputs": []
    },
    {
      "cell_type": "code",
      "metadata": {
        "id": "5Lfr2eWWiCTc"
      },
      "source": [
        "line = [j for j in range(1,19000)]"
      ],
      "execution_count": 125,
      "outputs": []
    },
    {
      "cell_type": "code",
      "metadata": {
        "colab": {
          "base_uri": "https://localhost:8080/",
          "height": 295
        },
        "id": "FG1UveASfXfv",
        "outputId": "b927ac4a-b5a0-4811-839a-ca1590135897"
      },
      "source": [
        "plt.plot(line,line,c='green')\n",
        "plt.scatter(Y_test, p3y_predicted, c='blue', s=10)\n",
        "plt.title('Model P3: Price vs Price')\n",
        "plt.ylabel('Predicted Price')\n",
        "plt.xlabel('Real Price')\n",
        "plt.legend(['Ideal Line', 'Model 3'], loc='upper left')\n",
        "plt.show()"
      ],
      "execution_count": 126,
      "outputs": [
        {
          "output_type": "display_data",
          "data": {
            "image/png": "[encoded data removed]",
            "text/plain": [
              "<Figure size 432x288 with 1 Axes>"
            ]
          },
          "metadata": {
            "tags": [],
            "needs_background": "light"
          }
        }
      ]
    },
    {
      "cell_type": "markdown",
      "metadata": {
        "id": "z0RvU_dJb9pt"
      },
      "source": [
        "Cada punto azul representa un ejemplo de la simulación, además se graficó una línea verde que sirve como referencia de exactitud en cuanto a la predicción.\n",
        "\n",
        "A partir de esta interpretación, con respecto a nuestro modelo de la pregunta 3, por un lado podemos mencionar que existe mayor densidad en valores más bajos de los diamantes y que en un primer tramo nuestro modelo sobre estima el valor de los diamantes. \n",
        "\n",
        "Por otro, podemos mencionar que en la mitad superior de los valores reales de los diamantes nuestro modelo tiende a subestimar estos valores, con la excepción de un par de punto que se alejan del grueso de los puntos. Estos puntos alejados representan sobre estimaciones exageradas de nuestro modelo.\n",
        "\n",
        "En términos generales podemos decir que el modelo estima bien el valor de los diamantes, ya que sigue la tendencia de la línea verde.\n"
      ]
    },
    {
      "cell_type": "code",
      "metadata": {
        "colab": {
          "base_uri": "https://localhost:8080/",
          "height": 295
        },
        "id": "jRf3C4czg7IB",
        "outputId": "0bb12320-7dc1-4b37-9e4a-4580a7b0b7d8"
      },
      "source": [
        "plt.plot(line,line,c='green')\n",
        "plt.scatter(Y_test, p4y_predicted, c='red', s=10)\n",
        "plt.title('Model P4: Price vs Price')\n",
        "plt.ylabel('Predicted Price')\n",
        "plt.xlabel('Real Price')\n",
        "plt.legend(['Ideal line', 'Model 4'], loc='upper left')\n",
        "plt.show()"
      ],
      "execution_count": 127,
      "outputs": [
        {
          "output_type": "display_data",
          "data": {
            "image/png": "[encoded data removed]",
            "text/plain": [
              "<Figure size 432x288 with 1 Axes>"
            ]
          },
          "metadata": {
            "tags": [],
            "needs_background": "light"
          }
        }
      ]
    },
    {
      "cell_type": "markdown",
      "metadata": {
        "id": "bk0Y5P9_hbwb"
      },
      "source": [
        "Cada punto rojo representa un ejemplo de la simulación, además se graficó una línea verde que sirve como referencia de exactitud en cuanto a la predicción.\n",
        "\n",
        "A partir de esta interpretación, con respecto a nuestro modelo de la pregunta 4, por un lado podemos mencionar que existe mayor densidad en valores más bajos de los diamantes y que en un primer tramo este modelo predice de mejor manera los valores de los diamantes, comparado con las predicciones del modelo obtenido en la pregunta 3.\n",
        "\n",
        "Por otro, podemos mencionar que en la mitad superior de los valores reales de los diamantes nuestro modelo igualmente tiende a subestimar estos valores, pero estas nuevas capas de cierta manera \"neutralizaron\" los ejemplos en que nuestro modelo sobreestimaba de manera extrema el valor de los diamantes.\n",
        "\n",
        "En términos generales podemos decir que este modelo estima el valor de los diamantes de mejor manera que el modelo 3."
      ]
    },
    {
      "cell_type": "code",
      "metadata": {
        "colab": {
          "base_uri": "https://localhost:8080/",
          "height": 295
        },
        "id": "gU5_F4UXhngG",
        "outputId": "8d4c69b6-a1fc-4b0a-b074-cd29ae0b66e8"
      },
      "source": [
        "plt.plot(line,line,c='green')\n",
        "plt.scatter(Y_test, p3y_predicted, c='blue', s=10)\n",
        "plt.scatter(Y_test, p4y_predicted, c='red', s=10)\n",
        "plt.title('Model P3: Price vs Price')\n",
        "plt.ylabel('Predicted Price')\n",
        "plt.xlabel('Real Price')\n",
        "plt.legend(['Ideal Line','Model 3', 'Model 4'], loc='upper left')\n",
        "plt.show()"
      ],
      "execution_count": 128,
      "outputs": [
        {
          "output_type": "display_data",
          "data": {
            "image/png": "[encoded data removed]",
            "text/plain": [
              "<Figure size 432x288 with 1 Axes>"
            ]
          },
          "metadata": {
            "tags": [],
            "needs_background": "light"
          }
        }
      ]
    },
    {
      "cell_type": "markdown",
      "metadata": {
        "id": "xNE_6zDsjtDE"
      },
      "source": [
        "Al sobreponer ambos gráficos, podemos notar que los puntos del modelo 4 se encuentran más \"compactos\" que los del modelo 4 con respecto a la línea ideal. En otras palabras, los puntos rojos se encuentran más cercanos a la línea que dicta el resultado ideal, con respecto a los puntos azules.\n",
        "\n",
        "Además, como fue mencionado anteriormente, las capas agregadas en el modelo 4, neutralizaron los puntos extremos presentes en el modelo 3, que representan sobre estimaciones en el valor de los diamantes por parte del modelo."
      ]
    },
    {
      "cell_type": "markdown",
      "metadata": {
        "id": "_0O3qknNadmm"
      },
      "source": [
        "##R Square"
      ]
    },
    {
      "cell_type": "code",
      "metadata": {
        "colab": {
          "base_uri": "https://localhost:8080/"
        },
        "id": "iTDiKc-dag9E",
        "outputId": "923d8f75-2a35-48f1-c5f1-bcd66040027f"
      },
      "source": [
        "r3_metric = tfa.metrics.r_square.RSquare(dtype=tf.float32, y_shape=(1,))\n",
        "r3_metric.update_state(np.array(Y_test), np.array(p3y_predicted))\n",
        "p3_result = r3_metric.result()\n",
        "p3_result.numpy()"
      ],
      "execution_count": 129,
      "outputs": [
        {
          "output_type": "execute_result",
          "data": {
            "text/plain": [
              "0.94958687"
            ]
          },
          "metadata": {
            "tags": []
          },
          "execution_count": 129
        }
      ]
    },
    {
      "cell_type": "code",
      "metadata": {
        "colab": {
          "base_uri": "https://localhost:8080/"
        },
        "id": "TV1Xh9cKap1F",
        "outputId": "b44f2bf3-6f47-43ce-c10a-72aa15a58801"
      },
      "source": [
        "r4_metric = tfa.metrics.r_square.RSquare(dtype=tf.float32, y_shape=(1,))\n",
        "r4_metric.update_state(Y_test, p4y_predicted)\n",
        "p4_result = r4_metric.result()\n",
        "p4_result.numpy()"
      ],
      "execution_count": 130,
      "outputs": [
        {
          "output_type": "execute_result",
          "data": {
            "text/plain": [
              "0.9733568"
            ]
          },
          "metadata": {
            "tags": []
          },
          "execution_count": 130
        }
      ]
    },
    {
      "cell_type": "markdown",
      "metadata": {
        "id": "I_o_7xFjktVd"
      },
      "source": [
        "Con respecto a los valores de R2, podemos mencionar que el modelo 4 tiene un mayor valor de esta métrica, lo que en términos generales indica que este modelo predice de major manera la variable dependiente, con respecto a un modelo que tiene menor valor de esta métrica, en este caso que el modelo 3."
      ]
    },
    {
      "cell_type": "markdown",
      "metadata": {
        "id": "sYpIUlx2CFjr"
      },
      "source": [
        "#AR - demo"
      ]
    },
    {
      "cell_type": "code",
      "metadata": {
        "colab": {
          "base_uri": "https://localhost:8080/"
        },
        "id": "IocPWU0hCFjs",
        "outputId": "db9036b0-7ad4-401a-ff76-9f4d48c4c888"
      },
      "source": [
        "#Descarga del ambiente (RUN ME!)\n",
        "%%bash\n",
        "pip install gym pyvirtualdisplay > /dev/null 2>&1\n",
        "apt-get install -y xvfb python-opengl ffmpeg > /dev/null 2>&1\n",
        "apt-get update > /dev/null 2>&1\n",
        "apt-get install cmake > /dev/null 2>&1\n",
        "pip install --upgrade setuptools 2>&1\n",
        "pip install ez_setup > /dev/null 2>&1\n",
        "pip install gym[atari] > /dev/null 2>&1\n",
        "pip3 install box2d-py"
      ],
      "execution_count": 79,
      "outputs": [
        {
          "output_type": "stream",
          "text": [
            "Requirement already satisfied: setuptools in /usr/local/lib/python3.7/dist-packages (57.4.0)\n",
            "Requirement already satisfied: box2d-py in /usr/local/lib/python3.7/dist-packages (2.3.8)\n"
          ],
          "name": "stdout"
        }
      ]
    },
    {
      "cell_type": "code",
      "metadata": {
        "id": "9Cv08nUNCFjs",
        "cellView": "form"
      },
      "source": [
        "#@title Importes (RUN ME TOO!)\n",
        "import gym\n",
        "from gym import logger as gymlogger\n",
        "from gym.wrappers import Monitor\n",
        "gymlogger.set_level(40) #error only\n",
        "import tensorflow as tf\n",
        "import numpy as np\n",
        "import random\n",
        "import matplotlib\n",
        "import matplotlib.pyplot as plt\n",
        "%matplotlib inline\n",
        "import math\n",
        "import glob\n",
        "import io\n",
        "import base64\n",
        "from IPython.display import HTML\n",
        "\n",
        "from IPython import display as ipythondisplay"
      ],
      "execution_count": 35,
      "outputs": []
    },
    {
      "cell_type": "code",
      "metadata": {
        "colab": {
          "base_uri": "https://localhost:8080/"
        },
        "id": "P5IE7C67CFjt",
        "outputId": "c61a8f9e-e4b7-4a6e-b880-d979594e3edb"
      },
      "source": [
        "from pyvirtualdisplay import Display\n",
        "display = Display(visible=0, size=(1400, 900))\n",
        "display.start()"
      ],
      "execution_count": 80,
      "outputs": [
        {
          "output_type": "execute_result",
          "data": {
            "text/plain": [
              "<pyvirtualdisplay.display.Display at 0x7fce30c59d10>"
            ]
          },
          "metadata": {
            "tags": []
          },
          "execution_count": 80
        }
      ]
    },
    {
      "cell_type": "markdown",
      "metadata": {
        "id": "2xJjNpqxCFjt"
      },
      "source": [
        "Vamos a inicializar el ambiente"
      ]
    },
    {
      "cell_type": "code",
      "metadata": {
        "id": "gnV2yazACFjt"
      },
      "source": [
        "env = gym.make('CartPole-v1')"
      ],
      "execution_count": 81,
      "outputs": []
    },
    {
      "cell_type": "markdown",
      "metadata": {
        "id": "qNVgc611CFjt"
      },
      "source": [
        "Cada vez que se resetea el ambiente se envía una observación del estado en el que inicia la nueva instancia."
      ]
    },
    {
      "cell_type": "code",
      "metadata": {
        "colab": {
          "base_uri": "https://localhost:8080/"
        },
        "id": "qKawEy9rCFju",
        "outputId": "6f94cfe3-7432-4fbd-e83c-666e0e2f9c68"
      },
      "source": [
        "obs = env.reset()\n",
        "print(obs)"
      ],
      "execution_count": 82,
      "outputs": [
        {
          "output_type": "stream",
          "text": [
            "[ 0.03747735 -0.02863088 -0.01440519  0.01872394]\n"
          ],
          "name": "stdout"
        }
      ]
    },
    {
      "cell_type": "markdown",
      "metadata": {
        "id": "p3c5BcCUCFju"
      },
      "source": [
        "Estos son los estados de ciertas variables importantes, para el ambiente. En ese caso estamos utilizando el ambiente ```CartPole-v1```. Según la [wiki](https://github.com/openai/gym/wiki/CartPole-v0) del toolkit las observaciones del sistema son: <p>\n",
        "\n",
        ">Num | Observations | Min | Max\n",
        ">--- | --- | ---  | ---\n",
        ">0 | Cart Position | -2.4 | 2.4\n",
        ">1 | Cart Velocity | -Inf | Inf\n",
        ">2 | Pole Angle | ~-41.8° | ~41.8°\n",
        ">3 | Pole Velocity at tip | -Inf | Inf\n"
      ]
    },
    {
      "cell_type": "code",
      "metadata": {
        "colab": {
          "base_uri": "https://localhost:8080/"
        },
        "id": "HzxO0pPgCFju",
        "outputId": "2f9590ca-684c-4dbf-e913-b013656c680a"
      },
      "source": [
        "print('Su espacio de acciones es', env.action_space)"
      ],
      "execution_count": 45,
      "outputs": [
        {
          "output_type": "stream",
          "text": [
            "Su espacio de acciones es Discrete(2)\n"
          ],
          "name": "stdout"
        }
      ]
    },
    {
      "cell_type": "markdown",
      "metadata": {
        "id": "-p1SVQgZCFjv"
      },
      "source": [
        "En pocas palabras\n",
        "\n",
        ">Num | Action\n",
        ">--- | --- \n",
        ">0 | Push car to left\n",
        ">1 | Push car to right\n",
        "\n",
        "Cada vez que se carga el ambiente se inicializa en algún estado aleatorio, con el péndulo en posición vertical. Veamos dos ejemplos."
      ]
    },
    {
      "cell_type": "code",
      "metadata": {
        "colab": {
          "base_uri": "https://localhost:8080/",
          "height": 269
        },
        "id": "4Giil8wSCFjv",
        "outputId": "fc59868c-966f-4bf7-d0fd-9157460dee9b"
      },
      "source": [
        "import matplotlib.pyplot as plt\n",
        "plt.imshow(env.render(mode='rgb_array'));"
      ],
      "execution_count": 48,
      "outputs": [
        {
          "output_type": "display_data",
          "data": {
            "image/png": "[encoded data removed]",
            "text/plain": [
              "<Figure size 432x288 with 1 Axes>"
            ]
          },
          "metadata": {
            "tags": [],
            "needs_background": "light"
          }
        }
      ]
    },
    {
      "cell_type": "code",
      "metadata": {
        "colab": {
          "base_uri": "https://localhost:8080/",
          "height": 269
        },
        "id": "C2YExNmSCFjv",
        "outputId": "397bd331-f1a6-42e1-f534-2c727d58cee5"
      },
      "source": [
        "env.reset()\n",
        "plt.imshow(env.render(mode='rgb_array'));"
      ],
      "execution_count": 52,
      "outputs": [
        {
          "output_type": "display_data",
          "data": {
            "image/png": "[encoded data removed]",
            "text/plain": [
              "<Figure size 432x288 with 1 Axes>"
            ]
          },
          "metadata": {
            "tags": [],
            "needs_background": "light"
          }
        }
      ]
    },
    {
      "cell_type": "markdown",
      "metadata": {
        "id": "C7UTaFcwCFjv"
      },
      "source": [
        "La diferencia es sutil, esto pues este ambiente tiene un desafío como diseño. Hay que mantener el péndulo vertical tanto como se pueda. Luego de eso el ambiente termina. <br>\n",
        "Ambientes como éste se denominan episódicos. Y tienden a funcionar en series de episodios. Muchos juegos caen en esta categoría, juegos de atari como pacman, o incluso juegos analógicos como el ajedrés también son episódicos.<br>\n",
        "Los episodios de este ambiente terminan si:\n",
        "\n",
        "\n",
        "*   El ángulo del péndulo es mayor a $\\pm 12°$\n",
        "*   La posición del carro es mayor a $\\pm 2.4$\n",
        "*   El largo del episodio es mayor a 500\n",
        "\n"
      ]
    },
    {
      "cell_type": "markdown",
      "metadata": {
        "id": "_uII68FDCFjw"
      },
      "source": [
        "Cada ambiente puede enviar una secuencia de acciones aleatorias si se le desea."
      ]
    },
    {
      "cell_type": "code",
      "metadata": {
        "colab": {
          "base_uri": "https://localhost:8080/"
        },
        "id": "gLMEFZ1HCFjw",
        "outputId": "1a81dcfe-b0c9-4cee-c3ad-a513003a8091"
      },
      "source": [
        "[env.action_space.sample() for _ in range(10)]"
      ],
      "execution_count": 77,
      "outputs": [
        {
          "output_type": "execute_result",
          "data": {
            "text/plain": [
              "[array([1.7111827], dtype=float32),\n",
              " array([0.00261788], dtype=float32),\n",
              " array([1.1922445], dtype=float32),\n",
              " array([0.33288404], dtype=float32),\n",
              " array([-0.6930931], dtype=float32),\n",
              " array([-0.9534121], dtype=float32),\n",
              " array([-1.3631978], dtype=float32),\n",
              " array([-1.9583023], dtype=float32),\n",
              " array([-1.806887], dtype=float32),\n",
              " array([1.0154958], dtype=float32)]"
            ]
          },
          "metadata": {
            "tags": []
          },
          "execution_count": 77
        }
      ]
    },
    {
      "cell_type": "markdown",
      "metadata": {
        "id": "9TrXeeOZCFjw"
      },
      "source": [
        "Calculemos cuantas acciones de \"ir a la izquierda\" puede tomar en promedio el sistema antes de que termine el episodio."
      ]
    },
    {
      "cell_type": "code",
      "metadata": {
        "colab": {
          "base_uri": "https://localhost:8080/",
          "height": 341
        },
        "id": "6Lr8a_djCFjw",
        "outputId": "8f828cab-1a86-4a1e-8206-c4cc8763808f"
      },
      "source": [
        "def actions_till_done(env, action):\n",
        "    env.reset()\n",
        "    done = False\n",
        "    count = 0\n",
        "    while done == False:\n",
        "        _, _, done, _, = env.step(action)\n",
        "        count += 1\n",
        "    return count\n",
        "  \n",
        "# Get an estimate for how many 0 actions you can take on average before the \n",
        "# pole falls over\n",
        "np.mean([actions_till_done(env, 0) for _ in range(100)])"
      ],
      "execution_count": 78,
      "outputs": [
        {
          "output_type": "error",
          "ename": "IndexError",
          "evalue": "ignored",
          "traceback": [
            "\u001b[0;31m---------------------------------------------------------------------------\u001b[0m",
            "\u001b[0;31mIndexError\u001b[0m                                Traceback (most recent call last)",
            "\u001b[0;32m<ipython-input-78-5334a9bd2961>\u001b[0m in \u001b[0;36m<module>\u001b[0;34m()\u001b[0m\n\u001b[1;32m     10\u001b[0m \u001b[0;31m# Get an estimate for how many 0 actions you can take on average before the\u001b[0m\u001b[0;34m\u001b[0m\u001b[0;34m\u001b[0m\u001b[0;34m\u001b[0m\u001b[0m\n\u001b[1;32m     11\u001b[0m \u001b[0;31m# pole falls over\u001b[0m\u001b[0;34m\u001b[0m\u001b[0;34m\u001b[0m\u001b[0;34m\u001b[0m\u001b[0m\n\u001b[0;32m---> 12\u001b[0;31m \u001b[0mnp\u001b[0m\u001b[0;34m.\u001b[0m\u001b[0mmean\u001b[0m\u001b[0;34m(\u001b[0m\u001b[0;34m[\u001b[0m\u001b[0mactions_till_done\u001b[0m\u001b[0;34m(\u001b[0m\u001b[0menv\u001b[0m\u001b[0;34m,\u001b[0m \u001b[0;36m0\u001b[0m\u001b[0;34m)\u001b[0m \u001b[0;32mfor\u001b[0m \u001b[0m_\u001b[0m \u001b[0;32min\u001b[0m \u001b[0mrange\u001b[0m\u001b[0;34m(\u001b[0m\u001b[0;36m100\u001b[0m\u001b[0;34m)\u001b[0m\u001b[0;34m]\u001b[0m\u001b[0;34m)\u001b[0m\u001b[0;34m\u001b[0m\u001b[0;34m\u001b[0m\u001b[0m\n\u001b[0m",
            "\u001b[0;32m<ipython-input-78-5334a9bd2961>\u001b[0m in \u001b[0;36m<listcomp>\u001b[0;34m(.0)\u001b[0m\n\u001b[1;32m     10\u001b[0m \u001b[0;31m# Get an estimate for how many 0 actions you can take on average before the\u001b[0m\u001b[0;34m\u001b[0m\u001b[0;34m\u001b[0m\u001b[0;34m\u001b[0m\u001b[0m\n\u001b[1;32m     11\u001b[0m \u001b[0;31m# pole falls over\u001b[0m\u001b[0;34m\u001b[0m\u001b[0;34m\u001b[0m\u001b[0;34m\u001b[0m\u001b[0m\n\u001b[0;32m---> 12\u001b[0;31m \u001b[0mnp\u001b[0m\u001b[0;34m.\u001b[0m\u001b[0mmean\u001b[0m\u001b[0;34m(\u001b[0m\u001b[0;34m[\u001b[0m\u001b[0mactions_till_done\u001b[0m\u001b[0;34m(\u001b[0m\u001b[0menv\u001b[0m\u001b[0;34m,\u001b[0m \u001b[0;36m0\u001b[0m\u001b[0;34m)\u001b[0m \u001b[0;32mfor\u001b[0m \u001b[0m_\u001b[0m \u001b[0;32min\u001b[0m \u001b[0mrange\u001b[0m\u001b[0;34m(\u001b[0m\u001b[0;36m100\u001b[0m\u001b[0;34m)\u001b[0m\u001b[0;34m]\u001b[0m\u001b[0;34m)\u001b[0m\u001b[0;34m\u001b[0m\u001b[0;34m\u001b[0m\u001b[0m\n\u001b[0m",
            "\u001b[0;32m<ipython-input-78-5334a9bd2961>\u001b[0m in \u001b[0;36mactions_till_done\u001b[0;34m(env, action)\u001b[0m\n\u001b[1;32m      4\u001b[0m     \u001b[0mcount\u001b[0m \u001b[0;34m=\u001b[0m \u001b[0;36m0\u001b[0m\u001b[0;34m\u001b[0m\u001b[0;34m\u001b[0m\u001b[0m\n\u001b[1;32m      5\u001b[0m     \u001b[0;32mwhile\u001b[0m \u001b[0mdone\u001b[0m \u001b[0;34m==\u001b[0m \u001b[0;32mFalse\u001b[0m\u001b[0;34m:\u001b[0m\u001b[0;34m\u001b[0m\u001b[0;34m\u001b[0m\u001b[0m\n\u001b[0;32m----> 6\u001b[0;31m         \u001b[0m_\u001b[0m\u001b[0;34m,\u001b[0m \u001b[0m_\u001b[0m\u001b[0;34m,\u001b[0m \u001b[0mdone\u001b[0m\u001b[0;34m,\u001b[0m \u001b[0m_\u001b[0m\u001b[0;34m,\u001b[0m \u001b[0;34m=\u001b[0m \u001b[0menv\u001b[0m\u001b[0;34m.\u001b[0m\u001b[0mstep\u001b[0m\u001b[0;34m(\u001b[0m\u001b[0maction\u001b[0m\u001b[0;34m)\u001b[0m\u001b[0;34m\u001b[0m\u001b[0;34m\u001b[0m\u001b[0m\n\u001b[0m\u001b[1;32m      7\u001b[0m         \u001b[0mcount\u001b[0m \u001b[0;34m+=\u001b[0m \u001b[0;36m1\u001b[0m\u001b[0;34m\u001b[0m\u001b[0;34m\u001b[0m\u001b[0m\n\u001b[1;32m      8\u001b[0m     \u001b[0;32mreturn\u001b[0m \u001b[0mcount\u001b[0m\u001b[0;34m\u001b[0m\u001b[0;34m\u001b[0m\u001b[0m\n",
            "\u001b[0;32m/usr/local/lib/python3.7/dist-packages/gym/wrappers/time_limit.py\u001b[0m in \u001b[0;36mstep\u001b[0;34m(self, action)\u001b[0m\n\u001b[1;32m     14\u001b[0m     \u001b[0;32mdef\u001b[0m \u001b[0mstep\u001b[0m\u001b[0;34m(\u001b[0m\u001b[0mself\u001b[0m\u001b[0;34m,\u001b[0m \u001b[0maction\u001b[0m\u001b[0;34m)\u001b[0m\u001b[0;34m:\u001b[0m\u001b[0;34m\u001b[0m\u001b[0;34m\u001b[0m\u001b[0m\n\u001b[1;32m     15\u001b[0m         \u001b[0;32massert\u001b[0m \u001b[0mself\u001b[0m\u001b[0;34m.\u001b[0m\u001b[0m_elapsed_steps\u001b[0m \u001b[0;32mis\u001b[0m \u001b[0;32mnot\u001b[0m \u001b[0;32mNone\u001b[0m\u001b[0;34m,\u001b[0m \u001b[0;34m\"Cannot call env.step() before calling reset()\"\u001b[0m\u001b[0;34m\u001b[0m\u001b[0;34m\u001b[0m\u001b[0m\n\u001b[0;32m---> 16\u001b[0;31m         \u001b[0mobservation\u001b[0m\u001b[0;34m,\u001b[0m \u001b[0mreward\u001b[0m\u001b[0;34m,\u001b[0m \u001b[0mdone\u001b[0m\u001b[0;34m,\u001b[0m \u001b[0minfo\u001b[0m \u001b[0;34m=\u001b[0m \u001b[0mself\u001b[0m\u001b[0;34m.\u001b[0m\u001b[0menv\u001b[0m\u001b[0;34m.\u001b[0m\u001b[0mstep\u001b[0m\u001b[0;34m(\u001b[0m\u001b[0maction\u001b[0m\u001b[0;34m)\u001b[0m\u001b[0;34m\u001b[0m\u001b[0;34m\u001b[0m\u001b[0m\n\u001b[0m\u001b[1;32m     17\u001b[0m         \u001b[0mself\u001b[0m\u001b[0;34m.\u001b[0m\u001b[0m_elapsed_steps\u001b[0m \u001b[0;34m+=\u001b[0m \u001b[0;36m1\u001b[0m\u001b[0;34m\u001b[0m\u001b[0;34m\u001b[0m\u001b[0m\n\u001b[1;32m     18\u001b[0m         \u001b[0;32mif\u001b[0m \u001b[0mself\u001b[0m\u001b[0;34m.\u001b[0m\u001b[0m_elapsed_steps\u001b[0m \u001b[0;34m>=\u001b[0m \u001b[0mself\u001b[0m\u001b[0;34m.\u001b[0m\u001b[0m_max_episode_steps\u001b[0m\u001b[0;34m:\u001b[0m\u001b[0;34m\u001b[0m\u001b[0;34m\u001b[0m\u001b[0m\n",
            "\u001b[0;32m/usr/local/lib/python3.7/dist-packages/gym/envs/classic_control/pendulum.py\u001b[0m in \u001b[0;36mstep\u001b[0;34m(self, u)\u001b[0m\n\u001b[1;32m     47\u001b[0m         \u001b[0mdt\u001b[0m \u001b[0;34m=\u001b[0m \u001b[0mself\u001b[0m\u001b[0;34m.\u001b[0m\u001b[0mdt\u001b[0m\u001b[0;34m\u001b[0m\u001b[0;34m\u001b[0m\u001b[0m\n\u001b[1;32m     48\u001b[0m \u001b[0;34m\u001b[0m\u001b[0m\n\u001b[0;32m---> 49\u001b[0;31m         \u001b[0mu\u001b[0m \u001b[0;34m=\u001b[0m \u001b[0mnp\u001b[0m\u001b[0;34m.\u001b[0m\u001b[0mclip\u001b[0m\u001b[0;34m(\u001b[0m\u001b[0mu\u001b[0m\u001b[0;34m,\u001b[0m \u001b[0;34m-\u001b[0m\u001b[0mself\u001b[0m\u001b[0;34m.\u001b[0m\u001b[0mmax_torque\u001b[0m\u001b[0;34m,\u001b[0m \u001b[0mself\u001b[0m\u001b[0;34m.\u001b[0m\u001b[0mmax_torque\u001b[0m\u001b[0;34m)\u001b[0m\u001b[0;34m[\u001b[0m\u001b[0;36m0\u001b[0m\u001b[0;34m]\u001b[0m\u001b[0;34m\u001b[0m\u001b[0;34m\u001b[0m\u001b[0m\n\u001b[0m\u001b[1;32m     50\u001b[0m         \u001b[0mself\u001b[0m\u001b[0;34m.\u001b[0m\u001b[0mlast_u\u001b[0m \u001b[0;34m=\u001b[0m \u001b[0mu\u001b[0m  \u001b[0;31m# for rendering\u001b[0m\u001b[0;34m\u001b[0m\u001b[0;34m\u001b[0m\u001b[0m\n\u001b[1;32m     51\u001b[0m         \u001b[0mcosts\u001b[0m \u001b[0;34m=\u001b[0m \u001b[0mangle_normalize\u001b[0m\u001b[0;34m(\u001b[0m\u001b[0mth\u001b[0m\u001b[0;34m)\u001b[0m \u001b[0;34m**\u001b[0m \u001b[0;36m2\u001b[0m \u001b[0;34m+\u001b[0m \u001b[0;36m.1\u001b[0m \u001b[0;34m*\u001b[0m \u001b[0mthdot\u001b[0m \u001b[0;34m**\u001b[0m \u001b[0;36m2\u001b[0m \u001b[0;34m+\u001b[0m \u001b[0;36m.001\u001b[0m \u001b[0;34m*\u001b[0m \u001b[0;34m(\u001b[0m\u001b[0mu\u001b[0m \u001b[0;34m**\u001b[0m \u001b[0;36m2\u001b[0m\u001b[0;34m)\u001b[0m\u001b[0;34m\u001b[0m\u001b[0;34m\u001b[0m\u001b[0m\n",
            "\u001b[0;31mIndexError\u001b[0m: invalid index to scalar variable."
          ]
        }
      ]
    },
    {
      "cell_type": "markdown",
      "metadata": {
        "id": "o6jp-9PlCFjw"
      },
      "source": [
        "De la misma manera se puede definir un criterio que calcule la cantidad de recompensas que se pueden obtener por episodio en promedio."
      ]
    },
    {
      "cell_type": "code",
      "metadata": {
        "id": "hJOOmY3mCFjw"
      },
      "source": [
        "def average_episodic_return(env, agent, episodes=10, max_steps_per_episode=500):\n",
        "    episode_rewards = []\n",
        "    for episode in range(episodes):\n",
        "        total_rewards = 0\n",
        "        obs = env.reset()\n",
        "        for t in range(max_steps_per_episode):\n",
        "            out = agent(obs) # we don't care about the probabilities here\n",
        "            assert (\"Action\" in out), \"The key 'Action' was missing from the agents output.\"\n",
        "            obs, rew, done, _ = env.step(out[\"Action\"])\n",
        "            total_rewards += rew\n",
        "            # check if we are done, if so, exit loop\n",
        "            if done:\n",
        "                break\n",
        "                \n",
        "        episode_rewards.append(total_rewards)\n",
        "        \n",
        "    return {\n",
        "        \"AverageEpisodicReturn\": np.mean(episode_rewards), \n",
        "        \"StandardDeviation\":np.sqrt(np.var(episode_rewards))\n",
        "    }"
      ],
      "execution_count": 57,
      "outputs": []
    },
    {
      "cell_type": "code",
      "metadata": {
        "id": "AVJiL9Q2CFjx"
      },
      "source": [
        "def agent_left(observation):\n",
        "    return {\"Action\":0}"
      ],
      "execution_count": 58,
      "outputs": []
    },
    {
      "cell_type": "code",
      "metadata": {
        "colab": {
          "base_uri": "https://localhost:8080/"
        },
        "id": "Qa3GD6RLCFjx",
        "outputId": "c8c3bdf9-b353-4df8-9b02-8862da8bef46"
      },
      "source": [
        "average_episodic_return(env, agent_left)"
      ],
      "execution_count": 59,
      "outputs": [
        {
          "output_type": "execute_result",
          "data": {
            "text/plain": [
              "{'AverageEpisodicReturn': 9.2, 'StandardDeviation': 0.7483314773547883}"
            ]
          },
          "metadata": {
            "tags": []
          },
          "execution_count": 59
        }
      ]
    },
    {
      "cell_type": "markdown",
      "metadata": {
        "id": "MUwBphXXCFjx"
      },
      "source": [
        "De la misma forma que pudimos mostrar una imagen de un estado del agente se puede presentar al agente en una secuencia animada."
      ]
    },
    {
      "cell_type": "code",
      "metadata": {
        "id": "o25eaqrUCFjx"
      },
      "source": [
        "from collections import deque\n",
        "import matplotlib.animation\n",
        "import matplotlib.pyplot as plt\n",
        "%matplotlib inline\n",
        "\n",
        "def animate_agent(env, agent, max_steps = 400):\n",
        "    obs = env.reset()\n",
        "    frames = deque()\n",
        "    frames.append(env.render(mode='rgb_array'))\n",
        "    for _ in range(max_steps):\n",
        "        out = agent(obs)\n",
        "        assert (\"Action\" in out), \"The key 'Action' was missing from the agents output.\"\n",
        "        action = out[\"Action\"]\n",
        "        obs, _ , done, _ = env.step(action)\n",
        "        frames.append(env.render(mode='rgb_array'))\n",
        "        if done:\n",
        "            break\n",
        "            \n",
        "    return animate_frames(frames)\n",
        "\n",
        "def animate_frames(frames):\n",
        "    new_height = 2.2\n",
        "    original_height = frames[0].shape[0]\n",
        "    original_width = frames[0].shape[1]\n",
        "    new_width = (new_height / original_height) * original_width\n",
        "    fig = plt.figure(figsize=(new_width, new_height), dpi = 120)\n",
        "    \n",
        "    ax = plt.Axes(fig, [0., 0., 1., 1.])\n",
        "    ax.set_axis_off()\n",
        "    fig.add_axes(ax)\n",
        "    patch = ax.imshow(frames[0], aspect='auto', animated=True, interpolation='bilinear')\n",
        "    animate = lambda i: patch.set_data(frames[i])\n",
        "    \n",
        "    ani = matplotlib.animation.FuncAnimation(fig, animate, frames=len(frames), interval = 50)\n",
        "    \n",
        "    plt.close()\n",
        "    return HTML(ani.to_jshtml())"
      ],
      "execution_count": 74,
      "outputs": []
    },
    {
      "cell_type": "markdown",
      "metadata": {
        "id": "zEKjy1JRCFjx"
      },
      "source": [
        "¿Cómo se ve el agente cuando se le da la orden de ir siempre a la izquierda?"
      ]
    },
    {
      "cell_type": "code",
      "metadata": {
        "colab": {
          "base_uri": "https://localhost:8080/",
          "height": 341
        },
        "id": "2kAd3g0LCFjx",
        "outputId": "3c3da27c-258e-487a-a48c-cd234f4a80e3"
      },
      "source": [
        "def agent_left(observation):\n",
        "    return {\"Action\":0}\n",
        "  \n",
        "animate_agent(env, agent_left, max_steps = 400)"
      ],
      "execution_count": 75,
      "outputs": [
        {
          "output_type": "error",
          "ename": "IndexError",
          "evalue": "ignored",
          "traceback": [
            "\u001b[0;31m---------------------------------------------------------------------------\u001b[0m",
            "\u001b[0;31mIndexError\u001b[0m                                Traceback (most recent call last)",
            "\u001b[0;32m<ipython-input-75-b94c15f02576>\u001b[0m in \u001b[0;36m<module>\u001b[0;34m()\u001b[0m\n\u001b[1;32m      2\u001b[0m     \u001b[0;32mreturn\u001b[0m \u001b[0;34m{\u001b[0m\u001b[0;34m\"Action\"\u001b[0m\u001b[0;34m:\u001b[0m\u001b[0;36m0\u001b[0m\u001b[0;34m}\u001b[0m\u001b[0;34m\u001b[0m\u001b[0;34m\u001b[0m\u001b[0m\n\u001b[1;32m      3\u001b[0m \u001b[0;34m\u001b[0m\u001b[0m\n\u001b[0;32m----> 4\u001b[0;31m \u001b[0manimate_agent\u001b[0m\u001b[0;34m(\u001b[0m\u001b[0menv\u001b[0m\u001b[0;34m,\u001b[0m \u001b[0magent_left\u001b[0m\u001b[0;34m,\u001b[0m \u001b[0mmax_steps\u001b[0m \u001b[0;34m=\u001b[0m \u001b[0;36m400\u001b[0m\u001b[0;34m)\u001b[0m\u001b[0;34m\u001b[0m\u001b[0;34m\u001b[0m\u001b[0m\n\u001b[0m",
            "\u001b[0;32m<ipython-input-74-137f2b271e05>\u001b[0m in \u001b[0;36manimate_agent\u001b[0;34m(env, agent, max_steps)\u001b[0m\n\u001b[1;32m     12\u001b[0m         \u001b[0;32massert\u001b[0m \u001b[0;34m(\u001b[0m\u001b[0;34m\"Action\"\u001b[0m \u001b[0;32min\u001b[0m \u001b[0mout\u001b[0m\u001b[0;34m)\u001b[0m\u001b[0;34m,\u001b[0m \u001b[0;34m\"The key 'Action' was missing from the agents output.\"\u001b[0m\u001b[0;34m\u001b[0m\u001b[0;34m\u001b[0m\u001b[0m\n\u001b[1;32m     13\u001b[0m         \u001b[0maction\u001b[0m \u001b[0;34m=\u001b[0m \u001b[0mout\u001b[0m\u001b[0;34m[\u001b[0m\u001b[0;34m\"Action\"\u001b[0m\u001b[0;34m]\u001b[0m\u001b[0;34m\u001b[0m\u001b[0;34m\u001b[0m\u001b[0m\n\u001b[0;32m---> 14\u001b[0;31m         \u001b[0mobs\u001b[0m\u001b[0;34m,\u001b[0m \u001b[0m_\u001b[0m \u001b[0;34m,\u001b[0m \u001b[0mdone\u001b[0m\u001b[0;34m,\u001b[0m \u001b[0m_\u001b[0m \u001b[0;34m=\u001b[0m \u001b[0menv\u001b[0m\u001b[0;34m.\u001b[0m\u001b[0mstep\u001b[0m\u001b[0;34m(\u001b[0m\u001b[0maction\u001b[0m\u001b[0;34m)\u001b[0m\u001b[0;34m\u001b[0m\u001b[0;34m\u001b[0m\u001b[0m\n\u001b[0m\u001b[1;32m     15\u001b[0m         \u001b[0mframes\u001b[0m\u001b[0;34m.\u001b[0m\u001b[0mappend\u001b[0m\u001b[0;34m(\u001b[0m\u001b[0menv\u001b[0m\u001b[0;34m.\u001b[0m\u001b[0mrender\u001b[0m\u001b[0;34m(\u001b[0m\u001b[0mmode\u001b[0m\u001b[0;34m=\u001b[0m\u001b[0;34m'rgb_array'\u001b[0m\u001b[0;34m)\u001b[0m\u001b[0;34m)\u001b[0m\u001b[0;34m\u001b[0m\u001b[0;34m\u001b[0m\u001b[0m\n\u001b[1;32m     16\u001b[0m         \u001b[0;32mif\u001b[0m \u001b[0mdone\u001b[0m\u001b[0;34m:\u001b[0m\u001b[0;34m\u001b[0m\u001b[0;34m\u001b[0m\u001b[0m\n",
            "\u001b[0;32m/usr/local/lib/python3.7/dist-packages/gym/wrappers/time_limit.py\u001b[0m in \u001b[0;36mstep\u001b[0;34m(self, action)\u001b[0m\n\u001b[1;32m     14\u001b[0m     \u001b[0;32mdef\u001b[0m \u001b[0mstep\u001b[0m\u001b[0;34m(\u001b[0m\u001b[0mself\u001b[0m\u001b[0;34m,\u001b[0m \u001b[0maction\u001b[0m\u001b[0;34m)\u001b[0m\u001b[0;34m:\u001b[0m\u001b[0;34m\u001b[0m\u001b[0;34m\u001b[0m\u001b[0m\n\u001b[1;32m     15\u001b[0m         \u001b[0;32massert\u001b[0m \u001b[0mself\u001b[0m\u001b[0;34m.\u001b[0m\u001b[0m_elapsed_steps\u001b[0m \u001b[0;32mis\u001b[0m \u001b[0;32mnot\u001b[0m \u001b[0;32mNone\u001b[0m\u001b[0;34m,\u001b[0m \u001b[0;34m\"Cannot call env.step() before calling reset()\"\u001b[0m\u001b[0;34m\u001b[0m\u001b[0;34m\u001b[0m\u001b[0m\n\u001b[0;32m---> 16\u001b[0;31m         \u001b[0mobservation\u001b[0m\u001b[0;34m,\u001b[0m \u001b[0mreward\u001b[0m\u001b[0;34m,\u001b[0m \u001b[0mdone\u001b[0m\u001b[0;34m,\u001b[0m \u001b[0minfo\u001b[0m \u001b[0;34m=\u001b[0m \u001b[0mself\u001b[0m\u001b[0;34m.\u001b[0m\u001b[0menv\u001b[0m\u001b[0;34m.\u001b[0m\u001b[0mstep\u001b[0m\u001b[0;34m(\u001b[0m\u001b[0maction\u001b[0m\u001b[0;34m)\u001b[0m\u001b[0;34m\u001b[0m\u001b[0;34m\u001b[0m\u001b[0m\n\u001b[0m\u001b[1;32m     17\u001b[0m         \u001b[0mself\u001b[0m\u001b[0;34m.\u001b[0m\u001b[0m_elapsed_steps\u001b[0m \u001b[0;34m+=\u001b[0m \u001b[0;36m1\u001b[0m\u001b[0;34m\u001b[0m\u001b[0;34m\u001b[0m\u001b[0m\n\u001b[1;32m     18\u001b[0m         \u001b[0;32mif\u001b[0m \u001b[0mself\u001b[0m\u001b[0;34m.\u001b[0m\u001b[0m_elapsed_steps\u001b[0m \u001b[0;34m>=\u001b[0m \u001b[0mself\u001b[0m\u001b[0;34m.\u001b[0m\u001b[0m_max_episode_steps\u001b[0m\u001b[0;34m:\u001b[0m\u001b[0;34m\u001b[0m\u001b[0;34m\u001b[0m\u001b[0m\n",
            "\u001b[0;32m/usr/local/lib/python3.7/dist-packages/gym/envs/classic_control/pendulum.py\u001b[0m in \u001b[0;36mstep\u001b[0;34m(self, u)\u001b[0m\n\u001b[1;32m     47\u001b[0m         \u001b[0mdt\u001b[0m \u001b[0;34m=\u001b[0m \u001b[0mself\u001b[0m\u001b[0;34m.\u001b[0m\u001b[0mdt\u001b[0m\u001b[0;34m\u001b[0m\u001b[0;34m\u001b[0m\u001b[0m\n\u001b[1;32m     48\u001b[0m \u001b[0;34m\u001b[0m\u001b[0m\n\u001b[0;32m---> 49\u001b[0;31m         \u001b[0mu\u001b[0m \u001b[0;34m=\u001b[0m \u001b[0mnp\u001b[0m\u001b[0;34m.\u001b[0m\u001b[0mclip\u001b[0m\u001b[0;34m(\u001b[0m\u001b[0mu\u001b[0m\u001b[0;34m,\u001b[0m \u001b[0;34m-\u001b[0m\u001b[0mself\u001b[0m\u001b[0;34m.\u001b[0m\u001b[0mmax_torque\u001b[0m\u001b[0;34m,\u001b[0m \u001b[0mself\u001b[0m\u001b[0;34m.\u001b[0m\u001b[0mmax_torque\u001b[0m\u001b[0;34m)\u001b[0m\u001b[0;34m[\u001b[0m\u001b[0;36m0\u001b[0m\u001b[0;34m]\u001b[0m\u001b[0;34m\u001b[0m\u001b[0;34m\u001b[0m\u001b[0m\n\u001b[0m\u001b[1;32m     50\u001b[0m         \u001b[0mself\u001b[0m\u001b[0;34m.\u001b[0m\u001b[0mlast_u\u001b[0m \u001b[0;34m=\u001b[0m \u001b[0mu\u001b[0m  \u001b[0;31m# for rendering\u001b[0m\u001b[0;34m\u001b[0m\u001b[0;34m\u001b[0m\u001b[0m\n\u001b[1;32m     51\u001b[0m         \u001b[0mcosts\u001b[0m \u001b[0;34m=\u001b[0m \u001b[0mangle_normalize\u001b[0m\u001b[0;34m(\u001b[0m\u001b[0mth\u001b[0m\u001b[0;34m)\u001b[0m \u001b[0;34m**\u001b[0m \u001b[0;36m2\u001b[0m \u001b[0;34m+\u001b[0m \u001b[0;36m.1\u001b[0m \u001b[0;34m*\u001b[0m \u001b[0mthdot\u001b[0m \u001b[0;34m**\u001b[0m \u001b[0;36m2\u001b[0m \u001b[0;34m+\u001b[0m \u001b[0;36m.001\u001b[0m \u001b[0;34m*\u001b[0m \u001b[0;34m(\u001b[0m\u001b[0mu\u001b[0m \u001b[0;34m**\u001b[0m \u001b[0;36m2\u001b[0m\u001b[0;34m)\u001b[0m\u001b[0;34m\u001b[0m\u001b[0;34m\u001b[0m\u001b[0m\n",
            "\u001b[0;31mIndexError\u001b[0m: invalid index to scalar variable."
          ]
        }
      ]
    },
    {
      "cell_type": "markdown",
      "metadata": {
        "id": "Uu-_2RwrCFjy"
      },
      "source": [
        "¿Y si se envía una orden aleatoria para que se mueva a izquierda o derecha?"
      ]
    },
    {
      "cell_type": "code",
      "metadata": {
        "id": "VtENhnSJCFjy"
      },
      "source": [
        "def agent_random(observation):\n",
        "    return {\"Action\":np.random.choice([0, 1])}"
      ],
      "execution_count": 71,
      "outputs": []
    },
    {
      "cell_type": "code",
      "metadata": {
        "colab": {
          "base_uri": "https://localhost:8080/",
          "height": 307
        },
        "id": "-cKBGiHmCFjy",
        "outputId": "d9ff56ea-ce89-41b0-a892-c08ee8cdf6a5"
      },
      "source": [
        "average_episodic_return(env, agent_random)"
      ],
      "execution_count": 72,
      "outputs": [
        {
          "output_type": "error",
          "ename": "IndexError",
          "evalue": "ignored",
          "traceback": [
            "\u001b[0;31m---------------------------------------------------------------------------\u001b[0m",
            "\u001b[0;31mIndexError\u001b[0m                                Traceback (most recent call last)",
            "\u001b[0;32m<ipython-input-72-4931fae449bc>\u001b[0m in \u001b[0;36m<module>\u001b[0;34m()\u001b[0m\n\u001b[0;32m----> 1\u001b[0;31m \u001b[0maverage_episodic_return\u001b[0m\u001b[0;34m(\u001b[0m\u001b[0menv\u001b[0m\u001b[0;34m,\u001b[0m \u001b[0magent_random\u001b[0m\u001b[0;34m)\u001b[0m\u001b[0;34m\u001b[0m\u001b[0;34m\u001b[0m\u001b[0m\n\u001b[0m",
            "\u001b[0;32m<ipython-input-57-9b08e9d6b094>\u001b[0m in \u001b[0;36maverage_episodic_return\u001b[0;34m(env, agent, episodes, max_steps_per_episode)\u001b[0m\n\u001b[1;32m      7\u001b[0m             \u001b[0mout\u001b[0m \u001b[0;34m=\u001b[0m \u001b[0magent\u001b[0m\u001b[0;34m(\u001b[0m\u001b[0mobs\u001b[0m\u001b[0;34m)\u001b[0m \u001b[0;31m# we don't care about the probabilities here\u001b[0m\u001b[0;34m\u001b[0m\u001b[0;34m\u001b[0m\u001b[0m\n\u001b[1;32m      8\u001b[0m             \u001b[0;32massert\u001b[0m \u001b[0;34m(\u001b[0m\u001b[0;34m\"Action\"\u001b[0m \u001b[0;32min\u001b[0m \u001b[0mout\u001b[0m\u001b[0;34m)\u001b[0m\u001b[0;34m,\u001b[0m \u001b[0;34m\"The key 'Action' was missing from the agents output.\"\u001b[0m\u001b[0;34m\u001b[0m\u001b[0;34m\u001b[0m\u001b[0m\n\u001b[0;32m----> 9\u001b[0;31m             \u001b[0mobs\u001b[0m\u001b[0;34m,\u001b[0m \u001b[0mrew\u001b[0m\u001b[0;34m,\u001b[0m \u001b[0mdone\u001b[0m\u001b[0;34m,\u001b[0m \u001b[0m_\u001b[0m \u001b[0;34m=\u001b[0m \u001b[0menv\u001b[0m\u001b[0;34m.\u001b[0m\u001b[0mstep\u001b[0m\u001b[0;34m(\u001b[0m\u001b[0mout\u001b[0m\u001b[0;34m[\u001b[0m\u001b[0;34m\"Action\"\u001b[0m\u001b[0;34m]\u001b[0m\u001b[0;34m)\u001b[0m\u001b[0;34m\u001b[0m\u001b[0;34m\u001b[0m\u001b[0m\n\u001b[0m\u001b[1;32m     10\u001b[0m             \u001b[0mtotal_rewards\u001b[0m \u001b[0;34m+=\u001b[0m \u001b[0mrew\u001b[0m\u001b[0;34m\u001b[0m\u001b[0;34m\u001b[0m\u001b[0m\n\u001b[1;32m     11\u001b[0m             \u001b[0;31m# check if we are done, if so, exit loop\u001b[0m\u001b[0;34m\u001b[0m\u001b[0;34m\u001b[0m\u001b[0;34m\u001b[0m\u001b[0m\n",
            "\u001b[0;32m/usr/local/lib/python3.7/dist-packages/gym/wrappers/time_limit.py\u001b[0m in \u001b[0;36mstep\u001b[0;34m(self, action)\u001b[0m\n\u001b[1;32m     14\u001b[0m     \u001b[0;32mdef\u001b[0m \u001b[0mstep\u001b[0m\u001b[0;34m(\u001b[0m\u001b[0mself\u001b[0m\u001b[0;34m,\u001b[0m \u001b[0maction\u001b[0m\u001b[0;34m)\u001b[0m\u001b[0;34m:\u001b[0m\u001b[0;34m\u001b[0m\u001b[0;34m\u001b[0m\u001b[0m\n\u001b[1;32m     15\u001b[0m         \u001b[0;32massert\u001b[0m \u001b[0mself\u001b[0m\u001b[0;34m.\u001b[0m\u001b[0m_elapsed_steps\u001b[0m \u001b[0;32mis\u001b[0m \u001b[0;32mnot\u001b[0m \u001b[0;32mNone\u001b[0m\u001b[0;34m,\u001b[0m \u001b[0;34m\"Cannot call env.step() before calling reset()\"\u001b[0m\u001b[0;34m\u001b[0m\u001b[0;34m\u001b[0m\u001b[0m\n\u001b[0;32m---> 16\u001b[0;31m         \u001b[0mobservation\u001b[0m\u001b[0;34m,\u001b[0m \u001b[0mreward\u001b[0m\u001b[0;34m,\u001b[0m \u001b[0mdone\u001b[0m\u001b[0;34m,\u001b[0m \u001b[0minfo\u001b[0m \u001b[0;34m=\u001b[0m \u001b[0mself\u001b[0m\u001b[0;34m.\u001b[0m\u001b[0menv\u001b[0m\u001b[0;34m.\u001b[0m\u001b[0mstep\u001b[0m\u001b[0;34m(\u001b[0m\u001b[0maction\u001b[0m\u001b[0;34m)\u001b[0m\u001b[0;34m\u001b[0m\u001b[0;34m\u001b[0m\u001b[0m\n\u001b[0m\u001b[1;32m     17\u001b[0m         \u001b[0mself\u001b[0m\u001b[0;34m.\u001b[0m\u001b[0m_elapsed_steps\u001b[0m \u001b[0;34m+=\u001b[0m \u001b[0;36m1\u001b[0m\u001b[0;34m\u001b[0m\u001b[0;34m\u001b[0m\u001b[0m\n\u001b[1;32m     18\u001b[0m         \u001b[0;32mif\u001b[0m \u001b[0mself\u001b[0m\u001b[0;34m.\u001b[0m\u001b[0m_elapsed_steps\u001b[0m \u001b[0;34m>=\u001b[0m \u001b[0mself\u001b[0m\u001b[0;34m.\u001b[0m\u001b[0m_max_episode_steps\u001b[0m\u001b[0;34m:\u001b[0m\u001b[0;34m\u001b[0m\u001b[0;34m\u001b[0m\u001b[0m\n",
            "\u001b[0;32m/usr/local/lib/python3.7/dist-packages/gym/envs/classic_control/pendulum.py\u001b[0m in \u001b[0;36mstep\u001b[0;34m(self, u)\u001b[0m\n\u001b[1;32m     47\u001b[0m         \u001b[0mdt\u001b[0m \u001b[0;34m=\u001b[0m \u001b[0mself\u001b[0m\u001b[0;34m.\u001b[0m\u001b[0mdt\u001b[0m\u001b[0;34m\u001b[0m\u001b[0;34m\u001b[0m\u001b[0m\n\u001b[1;32m     48\u001b[0m \u001b[0;34m\u001b[0m\u001b[0m\n\u001b[0;32m---> 49\u001b[0;31m         \u001b[0mu\u001b[0m \u001b[0;34m=\u001b[0m \u001b[0mnp\u001b[0m\u001b[0;34m.\u001b[0m\u001b[0mclip\u001b[0m\u001b[0;34m(\u001b[0m\u001b[0mu\u001b[0m\u001b[0;34m,\u001b[0m \u001b[0;34m-\u001b[0m\u001b[0mself\u001b[0m\u001b[0;34m.\u001b[0m\u001b[0mmax_torque\u001b[0m\u001b[0;34m,\u001b[0m \u001b[0mself\u001b[0m\u001b[0;34m.\u001b[0m\u001b[0mmax_torque\u001b[0m\u001b[0;34m)\u001b[0m\u001b[0;34m[\u001b[0m\u001b[0;36m0\u001b[0m\u001b[0;34m]\u001b[0m\u001b[0;34m\u001b[0m\u001b[0;34m\u001b[0m\u001b[0m\n\u001b[0m\u001b[1;32m     50\u001b[0m         \u001b[0mself\u001b[0m\u001b[0;34m.\u001b[0m\u001b[0mlast_u\u001b[0m \u001b[0;34m=\u001b[0m \u001b[0mu\u001b[0m  \u001b[0;31m# for rendering\u001b[0m\u001b[0;34m\u001b[0m\u001b[0;34m\u001b[0m\u001b[0m\n\u001b[1;32m     51\u001b[0m         \u001b[0mcosts\u001b[0m \u001b[0;34m=\u001b[0m \u001b[0mangle_normalize\u001b[0m\u001b[0;34m(\u001b[0m\u001b[0mth\u001b[0m\u001b[0;34m)\u001b[0m \u001b[0;34m**\u001b[0m \u001b[0;36m2\u001b[0m \u001b[0;34m+\u001b[0m \u001b[0;36m.1\u001b[0m \u001b[0;34m*\u001b[0m \u001b[0mthdot\u001b[0m \u001b[0;34m**\u001b[0m \u001b[0;36m2\u001b[0m \u001b[0;34m+\u001b[0m \u001b[0;36m.001\u001b[0m \u001b[0;34m*\u001b[0m \u001b[0;34m(\u001b[0m\u001b[0mu\u001b[0m \u001b[0;34m**\u001b[0m \u001b[0;36m2\u001b[0m\u001b[0;34m)\u001b[0m\u001b[0;34m\u001b[0m\u001b[0;34m\u001b[0m\u001b[0m\n",
            "\u001b[0;31mIndexError\u001b[0m: invalid index to scalar variable."
          ]
        }
      ]
    },
    {
      "cell_type": "code",
      "metadata": {
        "colab": {
          "base_uri": "https://localhost:8080/",
          "height": 307
        },
        "id": "Fo1_YbjvCFjy",
        "outputId": "18dbce72-e5e4-4d85-882c-d41e84e3ad57"
      },
      "source": [
        "animate_agent(env, agent_random)"
      ],
      "execution_count": 69,
      "outputs": [
        {
          "output_type": "error",
          "ename": "IndexError",
          "evalue": "ignored",
          "traceback": [
            "\u001b[0;31m---------------------------------------------------------------------------\u001b[0m",
            "\u001b[0;31mIndexError\u001b[0m                                Traceback (most recent call last)",
            "\u001b[0;32m<ipython-input-69-fc694d24091d>\u001b[0m in \u001b[0;36m<module>\u001b[0;34m()\u001b[0m\n\u001b[0;32m----> 1\u001b[0;31m \u001b[0manimate_agent\u001b[0m\u001b[0;34m(\u001b[0m\u001b[0menv\u001b[0m\u001b[0;34m,\u001b[0m \u001b[0magent_random\u001b[0m\u001b[0;34m)\u001b[0m\u001b[0;34m\u001b[0m\u001b[0;34m\u001b[0m\u001b[0m\n\u001b[0m",
            "\u001b[0;32m<ipython-input-60-137f2b271e05>\u001b[0m in \u001b[0;36manimate_agent\u001b[0;34m(env, agent, max_steps)\u001b[0m\n\u001b[1;32m     12\u001b[0m         \u001b[0;32massert\u001b[0m \u001b[0;34m(\u001b[0m\u001b[0;34m\"Action\"\u001b[0m \u001b[0;32min\u001b[0m \u001b[0mout\u001b[0m\u001b[0;34m)\u001b[0m\u001b[0;34m,\u001b[0m \u001b[0;34m\"The key 'Action' was missing from the agents output.\"\u001b[0m\u001b[0;34m\u001b[0m\u001b[0;34m\u001b[0m\u001b[0m\n\u001b[1;32m     13\u001b[0m         \u001b[0maction\u001b[0m \u001b[0;34m=\u001b[0m \u001b[0mout\u001b[0m\u001b[0;34m[\u001b[0m\u001b[0;34m\"Action\"\u001b[0m\u001b[0;34m]\u001b[0m\u001b[0;34m\u001b[0m\u001b[0;34m\u001b[0m\u001b[0m\n\u001b[0;32m---> 14\u001b[0;31m         \u001b[0mobs\u001b[0m\u001b[0;34m,\u001b[0m \u001b[0m_\u001b[0m \u001b[0;34m,\u001b[0m \u001b[0mdone\u001b[0m\u001b[0;34m,\u001b[0m \u001b[0m_\u001b[0m \u001b[0;34m=\u001b[0m \u001b[0menv\u001b[0m\u001b[0;34m.\u001b[0m\u001b[0mstep\u001b[0m\u001b[0;34m(\u001b[0m\u001b[0maction\u001b[0m\u001b[0;34m)\u001b[0m\u001b[0;34m\u001b[0m\u001b[0;34m\u001b[0m\u001b[0m\n\u001b[0m\u001b[1;32m     15\u001b[0m         \u001b[0mframes\u001b[0m\u001b[0;34m.\u001b[0m\u001b[0mappend\u001b[0m\u001b[0;34m(\u001b[0m\u001b[0menv\u001b[0m\u001b[0;34m.\u001b[0m\u001b[0mrender\u001b[0m\u001b[0;34m(\u001b[0m\u001b[0mmode\u001b[0m\u001b[0;34m=\u001b[0m\u001b[0;34m'rgb_array'\u001b[0m\u001b[0;34m)\u001b[0m\u001b[0;34m)\u001b[0m\u001b[0;34m\u001b[0m\u001b[0;34m\u001b[0m\u001b[0m\n\u001b[1;32m     16\u001b[0m         \u001b[0;32mif\u001b[0m \u001b[0mdone\u001b[0m\u001b[0;34m:\u001b[0m\u001b[0;34m\u001b[0m\u001b[0;34m\u001b[0m\u001b[0m\n",
            "\u001b[0;32m/usr/local/lib/python3.7/dist-packages/gym/wrappers/time_limit.py\u001b[0m in \u001b[0;36mstep\u001b[0;34m(self, action)\u001b[0m\n\u001b[1;32m     14\u001b[0m     \u001b[0;32mdef\u001b[0m \u001b[0mstep\u001b[0m\u001b[0;34m(\u001b[0m\u001b[0mself\u001b[0m\u001b[0;34m,\u001b[0m \u001b[0maction\u001b[0m\u001b[0;34m)\u001b[0m\u001b[0;34m:\u001b[0m\u001b[0;34m\u001b[0m\u001b[0;34m\u001b[0m\u001b[0m\n\u001b[1;32m     15\u001b[0m         \u001b[0;32massert\u001b[0m \u001b[0mself\u001b[0m\u001b[0;34m.\u001b[0m\u001b[0m_elapsed_steps\u001b[0m \u001b[0;32mis\u001b[0m \u001b[0;32mnot\u001b[0m \u001b[0;32mNone\u001b[0m\u001b[0;34m,\u001b[0m \u001b[0;34m\"Cannot call env.step() before calling reset()\"\u001b[0m\u001b[0;34m\u001b[0m\u001b[0;34m\u001b[0m\u001b[0m\n\u001b[0;32m---> 16\u001b[0;31m         \u001b[0mobservation\u001b[0m\u001b[0;34m,\u001b[0m \u001b[0mreward\u001b[0m\u001b[0;34m,\u001b[0m \u001b[0mdone\u001b[0m\u001b[0;34m,\u001b[0m \u001b[0minfo\u001b[0m \u001b[0;34m=\u001b[0m \u001b[0mself\u001b[0m\u001b[0;34m.\u001b[0m\u001b[0menv\u001b[0m\u001b[0;34m.\u001b[0m\u001b[0mstep\u001b[0m\u001b[0;34m(\u001b[0m\u001b[0maction\u001b[0m\u001b[0;34m)\u001b[0m\u001b[0;34m\u001b[0m\u001b[0;34m\u001b[0m\u001b[0m\n\u001b[0m\u001b[1;32m     17\u001b[0m         \u001b[0mself\u001b[0m\u001b[0;34m.\u001b[0m\u001b[0m_elapsed_steps\u001b[0m \u001b[0;34m+=\u001b[0m \u001b[0;36m1\u001b[0m\u001b[0;34m\u001b[0m\u001b[0;34m\u001b[0m\u001b[0m\n\u001b[1;32m     18\u001b[0m         \u001b[0;32mif\u001b[0m \u001b[0mself\u001b[0m\u001b[0;34m.\u001b[0m\u001b[0m_elapsed_steps\u001b[0m \u001b[0;34m>=\u001b[0m \u001b[0mself\u001b[0m\u001b[0;34m.\u001b[0m\u001b[0m_max_episode_steps\u001b[0m\u001b[0;34m:\u001b[0m\u001b[0;34m\u001b[0m\u001b[0;34m\u001b[0m\u001b[0m\n",
            "\u001b[0;32m/usr/local/lib/python3.7/dist-packages/gym/envs/classic_control/pendulum.py\u001b[0m in \u001b[0;36mstep\u001b[0;34m(self, u)\u001b[0m\n\u001b[1;32m     47\u001b[0m         \u001b[0mdt\u001b[0m \u001b[0;34m=\u001b[0m \u001b[0mself\u001b[0m\u001b[0;34m.\u001b[0m\u001b[0mdt\u001b[0m\u001b[0;34m\u001b[0m\u001b[0;34m\u001b[0m\u001b[0m\n\u001b[1;32m     48\u001b[0m \u001b[0;34m\u001b[0m\u001b[0m\n\u001b[0;32m---> 49\u001b[0;31m         \u001b[0mu\u001b[0m \u001b[0;34m=\u001b[0m \u001b[0mnp\u001b[0m\u001b[0;34m.\u001b[0m\u001b[0mclip\u001b[0m\u001b[0;34m(\u001b[0m\u001b[0mu\u001b[0m\u001b[0;34m,\u001b[0m \u001b[0;34m-\u001b[0m\u001b[0mself\u001b[0m\u001b[0;34m.\u001b[0m\u001b[0mmax_torque\u001b[0m\u001b[0;34m,\u001b[0m \u001b[0mself\u001b[0m\u001b[0;34m.\u001b[0m\u001b[0mmax_torque\u001b[0m\u001b[0;34m)\u001b[0m\u001b[0;34m[\u001b[0m\u001b[0;36m0\u001b[0m\u001b[0;34m]\u001b[0m\u001b[0;34m\u001b[0m\u001b[0;34m\u001b[0m\u001b[0m\n\u001b[0m\u001b[1;32m     50\u001b[0m         \u001b[0mself\u001b[0m\u001b[0;34m.\u001b[0m\u001b[0mlast_u\u001b[0m \u001b[0;34m=\u001b[0m \u001b[0mu\u001b[0m  \u001b[0;31m# for rendering\u001b[0m\u001b[0;34m\u001b[0m\u001b[0;34m\u001b[0m\u001b[0m\n\u001b[1;32m     51\u001b[0m         \u001b[0mcosts\u001b[0m \u001b[0;34m=\u001b[0m \u001b[0mangle_normalize\u001b[0m\u001b[0;34m(\u001b[0m\u001b[0mth\u001b[0m\u001b[0;34m)\u001b[0m \u001b[0;34m**\u001b[0m \u001b[0;36m2\u001b[0m \u001b[0;34m+\u001b[0m \u001b[0;36m.1\u001b[0m \u001b[0;34m*\u001b[0m \u001b[0mthdot\u001b[0m \u001b[0;34m**\u001b[0m \u001b[0;36m2\u001b[0m \u001b[0;34m+\u001b[0m \u001b[0;36m.001\u001b[0m \u001b[0;34m*\u001b[0m \u001b[0;34m(\u001b[0m\u001b[0mu\u001b[0m \u001b[0;34m**\u001b[0m \u001b[0;36m2\u001b[0m\u001b[0;34m)\u001b[0m\u001b[0;34m\u001b[0m\u001b[0;34m\u001b[0m\u001b[0m\n",
            "\u001b[0;31mIndexError\u001b[0m: invalid index to scalar variable."
          ]
        }
      ]
    },
    {
      "cell_type": "markdown",
      "metadata": {
        "id": "j4xFwoWdCFjy"
      },
      "source": [
        "Podemos definir una función que discretice el valor del estado en caso de que necesitasemos un valor en este dominio."
      ]
    },
    {
      "cell_type": "code",
      "metadata": {
        "id": "iiYZ0PdiCFjy"
      },
      "source": [
        "def state_for(observation):\n",
        "    ranges = [np.arange(-1, 1.25, 0.25), np.arange(-0.3, 0.375, 0.075)[:9], np.arange(-1, 1.25, 0.25)]\n",
        "    state = np.zeros((3,)) #Ignorando el primer sensor\n",
        "    for i, (obs, limits) in enumerate(zip(observation[1:], ranges)):\n",
        "        if obs < limits[0]:\n",
        "            state[i] = 0\n",
        "            continue\n",
        "        for j in range(1, len(limits) - 1):\n",
        "            if limits[j] <= obs <= limits[j+1]:\n",
        "                state[i] = j\n",
        "                break\n",
        "        if obs > limits[len(limits) - 1]:  \n",
        "            state[i] = len(limits)\n",
        "\n",
        "    currstate = 0\n",
        "\n",
        "    for i in range(3): \n",
        "        currstate += state[i] * (10 ** i)\n",
        "\n",
        "    return int(currstate)\n"
      ],
      "execution_count": 70,
      "outputs": []
    },
    {
      "cell_type": "markdown",
      "metadata": {
        "id": "2iKUMLy7Tkh5"
      },
      "source": [
        "Este es un ejemplo del carro cuando ha sido entrenado correctamente un agente utilizando q learning."
      ]
    },
    {
      "cell_type": "code",
      "metadata": {
        "colab": {
          "base_uri": "https://localhost:8080/",
          "height": 164
        },
        "id": "Xsu3CioXTkC-",
        "outputId": "7ab7f55c-0398-4084-b324-3aa63bbfa40e"
      },
      "source": [
        "animate_agent(env, agent)"
      ],
      "execution_count": 65,
      "outputs": [
        {
          "output_type": "error",
          "ename": "NameError",
          "evalue": "ignored",
          "traceback": [
            "\u001b[0;31m---------------------------------------------------------------------------\u001b[0m",
            "\u001b[0;31mNameError\u001b[0m                                 Traceback (most recent call last)",
            "\u001b[0;32m<ipython-input-65-ad57272ae27f>\u001b[0m in \u001b[0;36m<module>\u001b[0;34m()\u001b[0m\n\u001b[0;32m----> 1\u001b[0;31m \u001b[0manimate_agent\u001b[0m\u001b[0;34m(\u001b[0m\u001b[0menv\u001b[0m\u001b[0;34m,\u001b[0m \u001b[0magent\u001b[0m\u001b[0;34m)\u001b[0m\u001b[0;34m\u001b[0m\u001b[0;34m\u001b[0m\u001b[0m\n\u001b[0m",
            "\u001b[0;31mNameError\u001b[0m: name 'agent' is not defined"
          ]
        }
      ]
    },
    {
      "cell_type": "code",
      "metadata": {
        "colab": {
          "base_uri": "https://localhost:8080/",
          "height": 164
        },
        "id": "Mi3vf8FdT1xX",
        "outputId": "19878f93-23a3-47dc-ccbe-b58b78a42ddc"
      },
      "source": [
        "average_episodic_return(env, agent)"
      ],
      "execution_count": 76,
      "outputs": [
        {
          "output_type": "error",
          "ename": "NameError",
          "evalue": "ignored",
          "traceback": [
            "\u001b[0;31m---------------------------------------------------------------------------\u001b[0m",
            "\u001b[0;31mNameError\u001b[0m                                 Traceback (most recent call last)",
            "\u001b[0;32m<ipython-input-76-83587df91d84>\u001b[0m in \u001b[0;36m<module>\u001b[0;34m()\u001b[0m\n\u001b[0;32m----> 1\u001b[0;31m \u001b[0maverage_episodic_return\u001b[0m\u001b[0;34m(\u001b[0m\u001b[0menv\u001b[0m\u001b[0;34m,\u001b[0m \u001b[0magent\u001b[0m\u001b[0;34m)\u001b[0m\u001b[0;34m\u001b[0m\u001b[0;34m\u001b[0m\u001b[0m\n\u001b[0m",
            "\u001b[0;31mNameError\u001b[0m: name 'agent' is not defined"
          ]
        }
      ]
    },
    {
      "cell_type": "markdown",
      "metadata": {
        "id": "Aea_baeyh8Mc"
      },
      "source": [
        "#Pregunta 5"
      ]
    },
    {
      "cell_type": "code",
      "metadata": {
        "id": "0OcTJCEmh-Sb"
      },
      "source": [
        "env = gym.make('Pendulum-v0')"
      ],
      "execution_count": 64,
      "outputs": []
    },
    {
      "cell_type": "markdown",
      "metadata": {
        "id": "hyWHV5A-iI_F"
      },
      "source": [
        "#Pregunta 6"
      ]
    },
    {
      "cell_type": "code",
      "metadata": {
        "id": "24-cnW0iiKqI"
      },
      "source": [
        ""
      ],
      "execution_count": null,
      "outputs": []
    },
    {
      "cell_type": "markdown",
      "metadata": {
        "id": "RjiYBT2viLOs"
      },
      "source": [
        "#Pregunta 7 (BONO)"
      ]
    }
  ]
}